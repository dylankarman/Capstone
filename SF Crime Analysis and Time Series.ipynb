{
 "cells": [
  {
   "cell_type": "code",
   "execution_count": 1,
   "metadata": {},
   "outputs": [],
   "source": [
    "import pandas as pd\n",
    "import numpy as np\n",
    "import matplotlib.pyplot as plt\n",
    "import seaborn as sns\n",
    "%matplotlib inline"
   ]
  },
  {
   "cell_type": "code",
   "execution_count": 2,
   "metadata": {},
   "outputs": [],
   "source": [
    "# loading in the data\n",
    "df = pd.read_csv('Police_Department_Incidents_-_Previous_Year__2016_.csv')"
   ]
  },
  {
   "cell_type": "code",
   "execution_count": 3,
   "metadata": {},
   "outputs": [
    {
     "data": {
      "text/html": [
       "<div>\n",
       "<style scoped>\n",
       "    .dataframe tbody tr th:only-of-type {\n",
       "        vertical-align: middle;\n",
       "    }\n",
       "\n",
       "    .dataframe tbody tr th {\n",
       "        vertical-align: top;\n",
       "    }\n",
       "\n",
       "    .dataframe thead th {\n",
       "        text-align: right;\n",
       "    }\n",
       "</style>\n",
       "<table border=\"1\" class=\"dataframe\">\n",
       "  <thead>\n",
       "    <tr style=\"text-align: right;\">\n",
       "      <th></th>\n",
       "      <th>IncidntNum</th>\n",
       "      <th>Category</th>\n",
       "      <th>Descript</th>\n",
       "      <th>DayOfWeek</th>\n",
       "      <th>Date</th>\n",
       "      <th>Time</th>\n",
       "      <th>PdDistrict</th>\n",
       "      <th>Resolution</th>\n",
       "      <th>Address</th>\n",
       "      <th>X</th>\n",
       "      <th>Y</th>\n",
       "      <th>Location</th>\n",
       "      <th>PdId</th>\n",
       "    </tr>\n",
       "  </thead>\n",
       "  <tbody>\n",
       "    <tr>\n",
       "      <td>0</td>\n",
       "      <td>120058272</td>\n",
       "      <td>WEAPON LAWS</td>\n",
       "      <td>POSS OF PROHIBITED WEAPON</td>\n",
       "      <td>Friday</td>\n",
       "      <td>01/29/2016 12:00:00 AM</td>\n",
       "      <td>11:00</td>\n",
       "      <td>SOUTHERN</td>\n",
       "      <td>ARREST, BOOKED</td>\n",
       "      <td>800 Block of BRYANT ST</td>\n",
       "      <td>-122.403405</td>\n",
       "      <td>37.775421</td>\n",
       "      <td>(37.775420706711, -122.403404791479)</td>\n",
       "      <td>12005827212120</td>\n",
       "    </tr>\n",
       "    <tr>\n",
       "      <td>1</td>\n",
       "      <td>120058272</td>\n",
       "      <td>WEAPON LAWS</td>\n",
       "      <td>FIREARM, LOADED, IN VEHICLE, POSSESSION OR USE</td>\n",
       "      <td>Friday</td>\n",
       "      <td>01/29/2016 12:00:00 AM</td>\n",
       "      <td>11:00</td>\n",
       "      <td>SOUTHERN</td>\n",
       "      <td>ARREST, BOOKED</td>\n",
       "      <td>800 Block of BRYANT ST</td>\n",
       "      <td>-122.403405</td>\n",
       "      <td>37.775421</td>\n",
       "      <td>(37.775420706711, -122.403404791479)</td>\n",
       "      <td>12005827212168</td>\n",
       "    </tr>\n",
       "    <tr>\n",
       "      <td>2</td>\n",
       "      <td>141059263</td>\n",
       "      <td>WARRANTS</td>\n",
       "      <td>WARRANT ARREST</td>\n",
       "      <td>Monday</td>\n",
       "      <td>04/25/2016 12:00:00 AM</td>\n",
       "      <td>14:59</td>\n",
       "      <td>BAYVIEW</td>\n",
       "      <td>ARREST, BOOKED</td>\n",
       "      <td>KEITH ST / SHAFTER AV</td>\n",
       "      <td>-122.388856</td>\n",
       "      <td>37.729981</td>\n",
       "      <td>(37.7299809672996, -122.388856204292)</td>\n",
       "      <td>14105926363010</td>\n",
       "    </tr>\n",
       "    <tr>\n",
       "      <td>3</td>\n",
       "      <td>160013662</td>\n",
       "      <td>NON-CRIMINAL</td>\n",
       "      <td>LOST PROPERTY</td>\n",
       "      <td>Tuesday</td>\n",
       "      <td>01/05/2016 12:00:00 AM</td>\n",
       "      <td>23:50</td>\n",
       "      <td>TENDERLOIN</td>\n",
       "      <td>NONE</td>\n",
       "      <td>JONES ST / OFARRELL ST</td>\n",
       "      <td>-122.412971</td>\n",
       "      <td>37.785788</td>\n",
       "      <td>(37.7857883766888, -122.412970537591)</td>\n",
       "      <td>16001366271000</td>\n",
       "    </tr>\n",
       "    <tr>\n",
       "      <td>4</td>\n",
       "      <td>160002740</td>\n",
       "      <td>NON-CRIMINAL</td>\n",
       "      <td>LOST PROPERTY</td>\n",
       "      <td>Friday</td>\n",
       "      <td>01/01/2016 12:00:00 AM</td>\n",
       "      <td>00:30</td>\n",
       "      <td>MISSION</td>\n",
       "      <td>NONE</td>\n",
       "      <td>16TH ST / MISSION ST</td>\n",
       "      <td>-122.419672</td>\n",
       "      <td>37.765050</td>\n",
       "      <td>(37.7650501214668, -122.419671780296)</td>\n",
       "      <td>16000274071000</td>\n",
       "    </tr>\n",
       "  </tbody>\n",
       "</table>\n",
       "</div>"
      ],
      "text/plain": [
       "   IncidntNum      Category                                        Descript  \\\n",
       "0   120058272   WEAPON LAWS                       POSS OF PROHIBITED WEAPON   \n",
       "1   120058272   WEAPON LAWS  FIREARM, LOADED, IN VEHICLE, POSSESSION OR USE   \n",
       "2   141059263      WARRANTS                                  WARRANT ARREST   \n",
       "3   160013662  NON-CRIMINAL                                   LOST PROPERTY   \n",
       "4   160002740  NON-CRIMINAL                                   LOST PROPERTY   \n",
       "\n",
       "  DayOfWeek                    Date   Time  PdDistrict      Resolution  \\\n",
       "0    Friday  01/29/2016 12:00:00 AM  11:00    SOUTHERN  ARREST, BOOKED   \n",
       "1    Friday  01/29/2016 12:00:00 AM  11:00    SOUTHERN  ARREST, BOOKED   \n",
       "2    Monday  04/25/2016 12:00:00 AM  14:59     BAYVIEW  ARREST, BOOKED   \n",
       "3   Tuesday  01/05/2016 12:00:00 AM  23:50  TENDERLOIN            NONE   \n",
       "4    Friday  01/01/2016 12:00:00 AM  00:30     MISSION            NONE   \n",
       "\n",
       "                  Address           X          Y  \\\n",
       "0  800 Block of BRYANT ST -122.403405  37.775421   \n",
       "1  800 Block of BRYANT ST -122.403405  37.775421   \n",
       "2   KEITH ST / SHAFTER AV -122.388856  37.729981   \n",
       "3  JONES ST / OFARRELL ST -122.412971  37.785788   \n",
       "4    16TH ST / MISSION ST -122.419672  37.765050   \n",
       "\n",
       "                                Location            PdId  \n",
       "0   (37.775420706711, -122.403404791479)  12005827212120  \n",
       "1   (37.775420706711, -122.403404791479)  12005827212168  \n",
       "2  (37.7299809672996, -122.388856204292)  14105926363010  \n",
       "3  (37.7857883766888, -122.412970537591)  16001366271000  \n",
       "4  (37.7650501214668, -122.419671780296)  16000274071000  "
      ]
     },
     "execution_count": 3,
     "metadata": {},
     "output_type": "execute_result"
    }
   ],
   "source": [
    "# checking to see whether the data was loaded correctly\n",
    "df.head()"
   ]
  },
  {
   "cell_type": "code",
   "execution_count": 4,
   "metadata": {},
   "outputs": [],
   "source": [
    "# renaming the 2 columns so that it makes a little more sense.\n",
    "col_rename = {'X': 'Lat', 'Y': 'Lon'}"
   ]
  },
  {
   "cell_type": "code",
   "execution_count": 5,
   "metadata": {},
   "outputs": [],
   "source": [
    "df = df.rename(columns=col_rename)"
   ]
  },
  {
   "cell_type": "code",
   "execution_count": 6,
   "metadata": {},
   "outputs": [],
   "source": [
    "# dropping unnecessary columns\n",
    "df = df.drop((['IncidntNum', 'Location', 'PdId']), axis = 1)"
   ]
  },
  {
   "cell_type": "code",
   "execution_count": 7,
   "metadata": {},
   "outputs": [],
   "source": [
    "# sorting the dataframe by the date so that is starts on January 1, and ends on December 31.\n",
    "df.sort_values(by=['Date'], ascending=True, inplace=True)"
   ]
  },
  {
   "cell_type": "code",
   "execution_count": 8,
   "metadata": {},
   "outputs": [
    {
     "data": {
      "text/html": [
       "<div>\n",
       "<style scoped>\n",
       "    .dataframe tbody tr th:only-of-type {\n",
       "        vertical-align: middle;\n",
       "    }\n",
       "\n",
       "    .dataframe tbody tr th {\n",
       "        vertical-align: top;\n",
       "    }\n",
       "\n",
       "    .dataframe thead th {\n",
       "        text-align: right;\n",
       "    }\n",
       "</style>\n",
       "<table border=\"1\" class=\"dataframe\">\n",
       "  <thead>\n",
       "    <tr style=\"text-align: right;\">\n",
       "      <th></th>\n",
       "      <th>Category</th>\n",
       "      <th>Descript</th>\n",
       "      <th>DayOfWeek</th>\n",
       "      <th>Date</th>\n",
       "      <th>Time</th>\n",
       "      <th>PdDistrict</th>\n",
       "      <th>Resolution</th>\n",
       "      <th>Address</th>\n",
       "      <th>Lat</th>\n",
       "      <th>Lon</th>\n",
       "    </tr>\n",
       "  </thead>\n",
       "  <tbody>\n",
       "    <tr>\n",
       "      <td>139947</td>\n",
       "      <td>OTHER OFFENSES</td>\n",
       "      <td>MISCELLANEOUS INVESTIGATION</td>\n",
       "      <td>Friday</td>\n",
       "      <td>01/01/2016 12:00:00 AM</td>\n",
       "      <td>00:01</td>\n",
       "      <td>TARAVAL</td>\n",
       "      <td>NONE</td>\n",
       "      <td>1200 Block of 9TH AV</td>\n",
       "      <td>-122.466306</td>\n",
       "      <td>37.764966</td>\n",
       "    </tr>\n",
       "    <tr>\n",
       "      <td>26883</td>\n",
       "      <td>ASSAULT</td>\n",
       "      <td>BATTERY, FORMER SPOUSE OR DATING RELATIONSHIP</td>\n",
       "      <td>Friday</td>\n",
       "      <td>01/01/2016 12:00:00 AM</td>\n",
       "      <td>00:09</td>\n",
       "      <td>MISSION</td>\n",
       "      <td>NONE</td>\n",
       "      <td>400 Block of VALENCIA ST</td>\n",
       "      <td>-122.421935</td>\n",
       "      <td>37.766134</td>\n",
       "    </tr>\n",
       "    <tr>\n",
       "      <td>26884</td>\n",
       "      <td>VANDALISM</td>\n",
       "      <td>MALICIOUS MISCHIEF, BREAKING WINDOWS</td>\n",
       "      <td>Friday</td>\n",
       "      <td>01/01/2016 12:00:00 AM</td>\n",
       "      <td>00:09</td>\n",
       "      <td>MISSION</td>\n",
       "      <td>NONE</td>\n",
       "      <td>400 Block of VALENCIA ST</td>\n",
       "      <td>-122.421935</td>\n",
       "      <td>37.766134</td>\n",
       "    </tr>\n",
       "    <tr>\n",
       "      <td>26885</td>\n",
       "      <td>DRUG/NARCOTIC</td>\n",
       "      <td>POSSESSION OF CONTROLLED SUBSTANCE</td>\n",
       "      <td>Friday</td>\n",
       "      <td>01/01/2016 12:00:00 AM</td>\n",
       "      <td>00:07</td>\n",
       "      <td>NORTHERN</td>\n",
       "      <td>ARREST, BOOKED</td>\n",
       "      <td>POLK ST / CEDAR ST</td>\n",
       "      <td>-122.419835</td>\n",
       "      <td>37.786358</td>\n",
       "    </tr>\n",
       "    <tr>\n",
       "      <td>26886</td>\n",
       "      <td>DRIVING UNDER THE INFLUENCE</td>\n",
       "      <td>DRIVING WHILE UNDER THE INFLUENCE OF ALCOHOL</td>\n",
       "      <td>Friday</td>\n",
       "      <td>01/01/2016 12:00:00 AM</td>\n",
       "      <td>00:07</td>\n",
       "      <td>NORTHERN</td>\n",
       "      <td>ARREST, BOOKED</td>\n",
       "      <td>POLK ST / CEDAR ST</td>\n",
       "      <td>-122.419835</td>\n",
       "      <td>37.786358</td>\n",
       "    </tr>\n",
       "  </tbody>\n",
       "</table>\n",
       "</div>"
      ],
      "text/plain": [
       "                           Category  \\\n",
       "139947               OTHER OFFENSES   \n",
       "26883                       ASSAULT   \n",
       "26884                     VANDALISM   \n",
       "26885                 DRUG/NARCOTIC   \n",
       "26886   DRIVING UNDER THE INFLUENCE   \n",
       "\n",
       "                                             Descript DayOfWeek  \\\n",
       "139947                    MISCELLANEOUS INVESTIGATION    Friday   \n",
       "26883   BATTERY, FORMER SPOUSE OR DATING RELATIONSHIP    Friday   \n",
       "26884            MALICIOUS MISCHIEF, BREAKING WINDOWS    Friday   \n",
       "26885              POSSESSION OF CONTROLLED SUBSTANCE    Friday   \n",
       "26886    DRIVING WHILE UNDER THE INFLUENCE OF ALCOHOL    Friday   \n",
       "\n",
       "                          Date   Time PdDistrict      Resolution  \\\n",
       "139947  01/01/2016 12:00:00 AM  00:01    TARAVAL            NONE   \n",
       "26883   01/01/2016 12:00:00 AM  00:09    MISSION            NONE   \n",
       "26884   01/01/2016 12:00:00 AM  00:09    MISSION            NONE   \n",
       "26885   01/01/2016 12:00:00 AM  00:07   NORTHERN  ARREST, BOOKED   \n",
       "26886   01/01/2016 12:00:00 AM  00:07   NORTHERN  ARREST, BOOKED   \n",
       "\n",
       "                         Address         Lat        Lon  \n",
       "139947      1200 Block of 9TH AV -122.466306  37.764966  \n",
       "26883   400 Block of VALENCIA ST -122.421935  37.766134  \n",
       "26884   400 Block of VALENCIA ST -122.421935  37.766134  \n",
       "26885         POLK ST / CEDAR ST -122.419835  37.786358  \n",
       "26886         POLK ST / CEDAR ST -122.419835  37.786358  "
      ]
     },
     "execution_count": 8,
     "metadata": {},
     "output_type": "execute_result"
    }
   ],
   "source": [
    "df.head()"
   ]
  },
  {
   "cell_type": "code",
   "execution_count": 9,
   "metadata": {},
   "outputs": [],
   "source": [
    "# making sure that the date is in the correct format\n",
    "df['Date'] = pd.to_datetime(df['Date'])"
   ]
  },
  {
   "cell_type": "code",
   "execution_count": 10,
   "metadata": {},
   "outputs": [],
   "source": [
    "# setting the date to year/month/day\n",
    "df['Date'] = df['Date'].dt.strftime('%Y/%m/%d')"
   ]
  },
  {
   "cell_type": "code",
   "execution_count": 11,
   "metadata": {},
   "outputs": [],
   "source": [
    "# setting category as the index\n",
    "# df = df.set_index('Date')"
   ]
  },
  {
   "cell_type": "code",
   "execution_count": 12,
   "metadata": {},
   "outputs": [
    {
     "data": {
      "text/html": [
       "<div>\n",
       "<style scoped>\n",
       "    .dataframe tbody tr th:only-of-type {\n",
       "        vertical-align: middle;\n",
       "    }\n",
       "\n",
       "    .dataframe tbody tr th {\n",
       "        vertical-align: top;\n",
       "    }\n",
       "\n",
       "    .dataframe thead th {\n",
       "        text-align: right;\n",
       "    }\n",
       "</style>\n",
       "<table border=\"1\" class=\"dataframe\">\n",
       "  <thead>\n",
       "    <tr style=\"text-align: right;\">\n",
       "      <th></th>\n",
       "      <th>Category</th>\n",
       "      <th>Descript</th>\n",
       "      <th>DayOfWeek</th>\n",
       "      <th>Date</th>\n",
       "      <th>Time</th>\n",
       "      <th>PdDistrict</th>\n",
       "      <th>Resolution</th>\n",
       "      <th>Address</th>\n",
       "      <th>Lat</th>\n",
       "      <th>Lon</th>\n",
       "    </tr>\n",
       "  </thead>\n",
       "  <tbody>\n",
       "    <tr>\n",
       "      <td>92236</td>\n",
       "      <td>VEHICLE THEFT</td>\n",
       "      <td>STOLEN TRUCK</td>\n",
       "      <td>Thursday</td>\n",
       "      <td>2016/11/03</td>\n",
       "      <td>03:30</td>\n",
       "      <td>BAYVIEW</td>\n",
       "      <td>NONE</td>\n",
       "      <td>1500 Block of YOSEMITE AV</td>\n",
       "      <td>-122.390713</td>\n",
       "      <td>37.726376</td>\n",
       "    </tr>\n",
       "    <tr>\n",
       "      <td>148800</td>\n",
       "      <td>FRAUD</td>\n",
       "      <td>CREDIT CARD, THEFT BY USE OF</td>\n",
       "      <td>Friday</td>\n",
       "      <td>2016/09/09</td>\n",
       "      <td>18:30</td>\n",
       "      <td>CENTRAL</td>\n",
       "      <td>NONE</td>\n",
       "      <td>KEARNY ST / MARKET ST</td>\n",
       "      <td>-122.403434</td>\n",
       "      <td>37.787643</td>\n",
       "    </tr>\n",
       "    <tr>\n",
       "      <td>24571</td>\n",
       "      <td>OTHER OFFENSES</td>\n",
       "      <td>TRAFFIC VIOLATION ARREST</td>\n",
       "      <td>Friday</td>\n",
       "      <td>2016/01/29</td>\n",
       "      <td>07:10</td>\n",
       "      <td>MISSION</td>\n",
       "      <td>ARREST, BOOKED</td>\n",
       "      <td>24TH ST / FOLSOM ST</td>\n",
       "      <td>-122.414089</td>\n",
       "      <td>37.752505</td>\n",
       "    </tr>\n",
       "    <tr>\n",
       "      <td>71546</td>\n",
       "      <td>OTHER OFFENSES</td>\n",
       "      <td>DRIVERS LICENSE, SUSPENDED OR REVOKED</td>\n",
       "      <td>Friday</td>\n",
       "      <td>2016/09/02</td>\n",
       "      <td>20:46</td>\n",
       "      <td>BAYVIEW</td>\n",
       "      <td>ARREST, BOOKED</td>\n",
       "      <td>PALOU AV / NEWHALL ST</td>\n",
       "      <td>-122.392779</td>\n",
       "      <td>37.735038</td>\n",
       "    </tr>\n",
       "    <tr>\n",
       "      <td>92788</td>\n",
       "      <td>NON-CRIMINAL</td>\n",
       "      <td>FOUND PROPERTY</td>\n",
       "      <td>Friday</td>\n",
       "      <td>2016/11/04</td>\n",
       "      <td>18:50</td>\n",
       "      <td>CENTRAL</td>\n",
       "      <td>NONE</td>\n",
       "      <td>100 Block of NORTHPOINT ST</td>\n",
       "      <td>-122.409702</td>\n",
       "      <td>37.807007</td>\n",
       "    </tr>\n",
       "  </tbody>\n",
       "</table>\n",
       "</div>"
      ],
      "text/plain": [
       "              Category                               Descript DayOfWeek  \\\n",
       "92236    VEHICLE THEFT                           STOLEN TRUCK  Thursday   \n",
       "148800           FRAUD           CREDIT CARD, THEFT BY USE OF    Friday   \n",
       "24571   OTHER OFFENSES               TRAFFIC VIOLATION ARREST    Friday   \n",
       "71546   OTHER OFFENSES  DRIVERS LICENSE, SUSPENDED OR REVOKED    Friday   \n",
       "92788     NON-CRIMINAL                         FOUND PROPERTY    Friday   \n",
       "\n",
       "              Date   Time PdDistrict      Resolution  \\\n",
       "92236   2016/11/03  03:30    BAYVIEW            NONE   \n",
       "148800  2016/09/09  18:30    CENTRAL            NONE   \n",
       "24571   2016/01/29  07:10    MISSION  ARREST, BOOKED   \n",
       "71546   2016/09/02  20:46    BAYVIEW  ARREST, BOOKED   \n",
       "92788   2016/11/04  18:50    CENTRAL            NONE   \n",
       "\n",
       "                           Address         Lat        Lon  \n",
       "92236    1500 Block of YOSEMITE AV -122.390713  37.726376  \n",
       "148800       KEARNY ST / MARKET ST -122.403434  37.787643  \n",
       "24571          24TH ST / FOLSOM ST -122.414089  37.752505  \n",
       "71546        PALOU AV / NEWHALL ST -122.392779  37.735038  \n",
       "92788   100 Block of NORTHPOINT ST -122.409702  37.807007  "
      ]
     },
     "execution_count": 12,
     "metadata": {},
     "output_type": "execute_result"
    }
   ],
   "source": [
    "# checking on the changes that I made to the dataframe\n",
    "df.sample(5)"
   ]
  },
  {
   "cell_type": "code",
   "execution_count": 13,
   "metadata": {},
   "outputs": [
    {
     "name": "stdout",
     "output_type": "stream",
     "text": [
      "<class 'pandas.core.frame.DataFrame'>\n",
      "Int64Index: 150500 entries, 139947 to 149155\n",
      "Data columns (total 10 columns):\n",
      "Category      150500 non-null object\n",
      "Descript      150500 non-null object\n",
      "DayOfWeek     150500 non-null object\n",
      "Date          150500 non-null object\n",
      "Time          150500 non-null object\n",
      "PdDistrict    150499 non-null object\n",
      "Resolution    150500 non-null object\n",
      "Address       150500 non-null object\n",
      "Lat           150500 non-null float64\n",
      "Lon           150500 non-null float64\n",
      "dtypes: float64(2), object(8)\n",
      "memory usage: 12.6+ MB\n"
     ]
    }
   ],
   "source": [
    "# checking to see if there are any missing values\n",
    "df.info()"
   ]
  },
  {
   "cell_type": "code",
   "execution_count": 14,
   "metadata": {},
   "outputs": [],
   "source": [
    "# there is only one missing value for the entire dataframe under the PdDistrict column. we will use a ffill.\n",
    "df['PdDistrict'] = df['PdDistrict'].ffill()"
   ]
  },
  {
   "cell_type": "code",
   "execution_count": 15,
   "metadata": {},
   "outputs": [
    {
     "data": {
      "text/plain": [
       "0"
      ]
     },
     "execution_count": 15,
     "metadata": {},
     "output_type": "execute_result"
    }
   ],
   "source": [
    "# checking to see whether the missing value was filled or not. It was.\n",
    "df['PdDistrict'].isnull().sum()"
   ]
  },
  {
   "cell_type": "markdown",
   "metadata": {},
   "source": [
    "# Descript"
   ]
  },
  {
   "cell_type": "code",
   "execution_count": 16,
   "metadata": {},
   "outputs": [
    {
     "data": {
      "text/plain": [
       "GRAND THEFT FROM LOCKED AUTO                         17741\n",
       "LOST PROPERTY                                         4596\n",
       "AIDED CASE, MENTAL DISTURBED                          4566\n",
       "PETTY THEFT OF PROPERTY                               4416\n",
       "MALICIOUS MISCHIEF, VANDALISM                         4262\n",
       "                                                     ...  \n",
       "FALSIFICATION OF MEDICAL RECORDS                         1\n",
       "FALSE EVIDENCE OF AGE BY MINOR                           1\n",
       "WEAPON, DEADLY, POSSESSION OF TO VIOLATE 136.1 PC        1\n",
       "BURGLARY,WAREHOUSE UNDER CONSTRT, ATT. FORCIBLE          1\n",
       "DOG, BARKING                                             1\n",
       "Name: Descript, Length: 726, dtype: int64"
      ]
     },
     "execution_count": 16,
     "metadata": {},
     "output_type": "execute_result"
    }
   ],
   "source": [
    "df['Descript'].value_counts()"
   ]
  },
  {
   "cell_type": "markdown",
   "metadata": {},
   "source": [
    "# Category"
   ]
  },
  {
   "cell_type": "code",
   "execution_count": 17,
   "metadata": {},
   "outputs": [],
   "source": [
    "# counting the different categories withing the crime category column\n",
    "catcount = pd.crosstab(index=df['Category'], columns='count')"
   ]
  },
  {
   "cell_type": "code",
   "execution_count": 18,
   "metadata": {},
   "outputs": [
    {
     "data": {
      "text/plain": [
       "Category\n",
       "LARCENY/THEFT                  40409\n",
       "OTHER OFFENSES                 19599\n",
       "NON-CRIMINAL                   17866\n",
       "ASSAULT                        13577\n",
       "VANDALISM                       8589\n",
       "VEHICLE THEFT                   6419\n",
       "WARRANTS                        5914\n",
       "BURGLARY                        5802\n",
       "SUSPICIOUS OCC                  5782\n",
       "MISSING PERSON                  4338\n",
       "DRUG/NARCOTIC                   4243\n",
       "ROBBERY                         3299\n",
       "FRAUD                           2635\n",
       "SECONDARY CODES                 1841\n",
       "TRESPASS                        1812\n",
       "WEAPON LAWS                     1658\n",
       "SEX OFFENSES, FORCIBLE           940\n",
       "STOLEN PROPERTY                  882\n",
       "RECOVERED VEHICLE                736\n",
       "DISORDERLY CONDUCT               658\n",
       "PROSTITUTION                     641\n",
       "FORGERY/COUNTERFEITING           619\n",
       "DRUNKENNESS                      465\n",
       "DRIVING UNDER THE INFLUENCE      378\n",
       "ARSON                            286\n",
       "KIDNAPPING                       257\n",
       "EMBEZZLEMENT                     168\n",
       "LIQUOR LAWS                      156\n",
       "RUNAWAY                          140\n",
       "SUICIDE                           69\n",
       "BRIBERY                           66\n",
       "EXTORTION                         60\n",
       "FAMILY OFFENSES                   53\n",
       "LOITERING                         42\n",
       "SEX OFFENSES, NON FORCIBLE        40\n",
       "BAD CHECKS                        34\n",
       "GAMBLING                          20\n",
       "PORNOGRAPHY/OBSCENE MAT            4\n",
       "TREA                               3\n",
       "Name: count, dtype: int64"
      ]
     },
     "execution_count": 18,
     "metadata": {},
     "output_type": "execute_result"
    }
   ],
   "source": [
    "catcount['count'].sort_values(ascending = False)"
   ]
  },
  {
   "cell_type": "code",
   "execution_count": 19,
   "metadata": {},
   "outputs": [],
   "source": [
    "# there are a lot of crimes for the year 2016 that happened less than 1000 times. to make things easier on ourselves \n",
    "# we will look at only the crimes that have occurred more than 1000 times over the course of the year.\n",
    "# LARCENY/THEFT                  40409\n",
    "# OTHER OFFENSES                 19599\n",
    "# NON-CRIMINAL                   17866\n",
    "# ASSAULT                        13577\n",
    "# VANDALISM                       8589\n",
    "# VEHICLE THEFT                   6419\n",
    "# WARRANTS                        5914\n",
    "# BURGLARY                        5802\n",
    "# SUSPICIOUS OCC                  5782\n",
    "# MISSING PERSON                  4338\n",
    "# DRUG/NARCOTIC                   4243\n",
    "# ROBBERY                         3299\n",
    "# FRAUD                           2635\n",
    "# SECONDARY CODES                 1841\n",
    "# TRESPASS                        1812\n",
    "# WEAPON LAWS                     1658"
   ]
  },
  {
   "cell_type": "code",
   "execution_count": 20,
   "metadata": {},
   "outputs": [],
   "source": [
    "cat = catcount.drop(['TREA', 'PORNOGRAPHY/OBSCENE MAT', 'GAMBLING', 'BAD CHECKS', 'SEX OFFENSES, NON FORCIBLE', 'LOITERING',\n",
    "              'FAMILY OFFENSES', 'EXTORTION', 'SUICIDE', 'BRIBERY', 'RUNAWAY', 'EMBEZZLEMENT', 'LIQUOR LAWS',\n",
    "              'SEX OFFENSES, FORCIBLE', 'STOLEN PROPERTY', 'RECOVERED VEHICLE', 'DISORDERLY CONDUCT', 'PROSTITUTION',\n",
    "               'FORGERY/COUNTERFEITING', 'DRUNKENNESS', 'DRIVING UNDER THE INFLUENCE', 'ARSON', 'KIDNAPPING'],\n",
    "                axis = 0)"
   ]
  },
  {
   "cell_type": "code",
   "execution_count": 21,
   "metadata": {},
   "outputs": [
    {
     "data": {
      "text/html": [
       "<div>\n",
       "<style scoped>\n",
       "    .dataframe tbody tr th:only-of-type {\n",
       "        vertical-align: middle;\n",
       "    }\n",
       "\n",
       "    .dataframe tbody tr th {\n",
       "        vertical-align: top;\n",
       "    }\n",
       "\n",
       "    .dataframe thead th {\n",
       "        text-align: right;\n",
       "    }\n",
       "</style>\n",
       "<table border=\"1\" class=\"dataframe\">\n",
       "  <thead>\n",
       "    <tr style=\"text-align: right;\">\n",
       "      <th>col_0</th>\n",
       "      <th>count</th>\n",
       "    </tr>\n",
       "    <tr>\n",
       "      <th>Category</th>\n",
       "      <th></th>\n",
       "    </tr>\n",
       "  </thead>\n",
       "  <tbody>\n",
       "    <tr>\n",
       "      <td>ASSAULT</td>\n",
       "      <td>13577</td>\n",
       "    </tr>\n",
       "    <tr>\n",
       "      <td>BURGLARY</td>\n",
       "      <td>5802</td>\n",
       "    </tr>\n",
       "    <tr>\n",
       "      <td>DRUG/NARCOTIC</td>\n",
       "      <td>4243</td>\n",
       "    </tr>\n",
       "    <tr>\n",
       "      <td>FRAUD</td>\n",
       "      <td>2635</td>\n",
       "    </tr>\n",
       "    <tr>\n",
       "      <td>LARCENY/THEFT</td>\n",
       "      <td>40409</td>\n",
       "    </tr>\n",
       "    <tr>\n",
       "      <td>MISSING PERSON</td>\n",
       "      <td>4338</td>\n",
       "    </tr>\n",
       "    <tr>\n",
       "      <td>NON-CRIMINAL</td>\n",
       "      <td>17866</td>\n",
       "    </tr>\n",
       "    <tr>\n",
       "      <td>OTHER OFFENSES</td>\n",
       "      <td>19599</td>\n",
       "    </tr>\n",
       "    <tr>\n",
       "      <td>ROBBERY</td>\n",
       "      <td>3299</td>\n",
       "    </tr>\n",
       "    <tr>\n",
       "      <td>SECONDARY CODES</td>\n",
       "      <td>1841</td>\n",
       "    </tr>\n",
       "    <tr>\n",
       "      <td>SUSPICIOUS OCC</td>\n",
       "      <td>5782</td>\n",
       "    </tr>\n",
       "    <tr>\n",
       "      <td>TRESPASS</td>\n",
       "      <td>1812</td>\n",
       "    </tr>\n",
       "    <tr>\n",
       "      <td>VANDALISM</td>\n",
       "      <td>8589</td>\n",
       "    </tr>\n",
       "    <tr>\n",
       "      <td>VEHICLE THEFT</td>\n",
       "      <td>6419</td>\n",
       "    </tr>\n",
       "    <tr>\n",
       "      <td>WARRANTS</td>\n",
       "      <td>5914</td>\n",
       "    </tr>\n",
       "    <tr>\n",
       "      <td>WEAPON LAWS</td>\n",
       "      <td>1658</td>\n",
       "    </tr>\n",
       "  </tbody>\n",
       "</table>\n",
       "</div>"
      ],
      "text/plain": [
       "col_0            count\n",
       "Category              \n",
       "ASSAULT          13577\n",
       "BURGLARY          5802\n",
       "DRUG/NARCOTIC     4243\n",
       "FRAUD             2635\n",
       "LARCENY/THEFT    40409\n",
       "MISSING PERSON    4338\n",
       "NON-CRIMINAL     17866\n",
       "OTHER OFFENSES   19599\n",
       "ROBBERY           3299\n",
       "SECONDARY CODES   1841\n",
       "SUSPICIOUS OCC    5782\n",
       "TRESPASS          1812\n",
       "VANDALISM         8589\n",
       "VEHICLE THEFT     6419\n",
       "WARRANTS          5914\n",
       "WEAPON LAWS       1658"
      ]
     },
     "execution_count": 21,
     "metadata": {},
     "output_type": "execute_result"
    }
   ],
   "source": [
    "cat.head(16)"
   ]
  },
  {
   "cell_type": "code",
   "execution_count": 22,
   "metadata": {},
   "outputs": [
    {
     "data": {
      "image/png": "[encoded data removed]",
      "text/plain": [
       "<Figure size 432x288 with 1 Axes>"
      ]
     },
     "metadata": {
      "needs_background": "light"
     },
     "output_type": "display_data"
    }
   ],
   "source": [
    "# after dropping everything that occured less than 1000 times over the course of the year, \n",
    "# we are left with 16 categories of crimes. Larceny and theft are the highest occuring crimes in SF for 2016.\n",
    "cat.plot(kind='bar');"
   ]
  },
  {
   "cell_type": "markdown",
   "metadata": {},
   "source": [
    "# Descript"
   ]
  },
  {
   "cell_type": "code",
   "execution_count": 23,
   "metadata": {},
   "outputs": [
    {
     "data": {
      "text/plain": [
       "GRAND THEFT FROM LOCKED AUTO                         17741\n",
       "LOST PROPERTY                                         4596\n",
       "AIDED CASE, MENTAL DISTURBED                          4566\n",
       "PETTY THEFT OF PROPERTY                               4416\n",
       "MALICIOUS MISCHIEF, VANDALISM                         4262\n",
       "                                                     ...  \n",
       "FALSIFICATION OF MEDICAL RECORDS                         1\n",
       "FALSE EVIDENCE OF AGE BY MINOR                           1\n",
       "WEAPON, DEADLY, POSSESSION OF TO VIOLATE 136.1 PC        1\n",
       "BURGLARY,WAREHOUSE UNDER CONSTRT, ATT. FORCIBLE          1\n",
       "DOG, BARKING                                             1\n",
       "Name: Descript, Length: 726, dtype: int64"
      ]
     },
     "execution_count": 23,
     "metadata": {},
     "output_type": "execute_result"
    }
   ],
   "source": [
    "df['Descript'].value_counts(ascending = False)"
   ]
  },
  {
   "cell_type": "code",
   "execution_count": 24,
   "metadata": {},
   "outputs": [],
   "source": [
    "desc = df['Descript'].value_counts(ascending = False)"
   ]
  },
  {
   "cell_type": "code",
   "execution_count": 25,
   "metadata": {},
   "outputs": [
    {
     "data": {
      "text/plain": [
       "GRAND THEFT FROM LOCKED AUTO             17741\n",
       "LOST PROPERTY                             4596\n",
       "AIDED CASE, MENTAL DISTURBED              4566\n",
       "PETTY THEFT OF PROPERTY                   4416\n",
       "MALICIOUS MISCHIEF, VANDALISM             4262\n",
       "BATTERY                                   4211\n",
       "PETTY THEFT FROM LOCKED AUTO              3994\n",
       "STOLEN AUTOMOBILE                         3603\n",
       "DRIVERS LICENSE, SUSPENDED OR REVOKED     3376\n",
       "WARRANT ARREST                            3089\n",
       "Name: Descript, dtype: int64"
      ]
     },
     "execution_count": 25,
     "metadata": {},
     "output_type": "execute_result"
    }
   ],
   "source": [
    "# there are 726 different descriptions for the crimes that were commited. If we look at the top to descriptions of\n",
    "# crimes, we will see that (in my opinion) 4/10 of these descriptions correlate with the larceny/theft category of \n",
    "# SF crimes in 2016. obviously this makes sense.\n",
    "desc.head(10)"
   ]
  },
  {
   "cell_type": "code",
   "execution_count": 26,
   "metadata": {},
   "outputs": [
    {
     "data": {
      "image/png": "[encoded data removed]",
      "text/plain": [
       "<Figure size 432x288 with 1 Axes>"
      ]
     },
     "metadata": {
      "needs_background": "light"
     },
     "output_type": "display_data"
    }
   ],
   "source": [
    "desc.head(10).plot(kind = 'bar');"
   ]
  },
  {
   "cell_type": "markdown",
   "metadata": {},
   "source": [
    "# DayOfWeek"
   ]
  },
  {
   "cell_type": "code",
   "execution_count": 27,
   "metadata": {},
   "outputs": [
    {
     "data": {
      "text/plain": [
       "Friday       23371\n",
       "Saturday     22172\n",
       "Thursday     21395\n",
       "Wednesday    21332\n",
       "Tuesday      21242\n",
       "Monday       20783\n",
       "Sunday       20205\n",
       "Name: DayOfWeek, dtype: int64"
      ]
     },
     "execution_count": 27,
     "metadata": {},
     "output_type": "execute_result"
    }
   ],
   "source": [
    "# I want to check to see what day of the week crimes are most likely to occur. \n",
    "df['DayOfWeek'].value_counts()"
   ]
  },
  {
   "cell_type": "code",
   "execution_count": 28,
   "metadata": {},
   "outputs": [],
   "source": [
    "# Not surprisingly, Friday, Saturday, and Thursday are the days with the most crimes commited but it is fairly even \n",
    "# accross the seven days of the week.\n",
    "day = pd.crosstab(index=df['DayOfWeek'], columns='count')"
   ]
  },
  {
   "cell_type": "code",
   "execution_count": 29,
   "metadata": {},
   "outputs": [
    {
     "data": {
      "image/png": "[encoded data removed]",
      "text/plain": [
       "<Figure size 432x288 with 1 Axes>"
      ]
     },
     "metadata": {
      "needs_background": "light"
     },
     "output_type": "display_data"
    }
   ],
   "source": [
    "day.plot(kind = 'bar');"
   ]
  },
  {
   "cell_type": "markdown",
   "metadata": {},
   "source": [
    "# Date"
   ]
  },
  {
   "cell_type": "code",
   "execution_count": 30,
   "metadata": {},
   "outputs": [
    {
     "data": {
      "text/plain": [
       "2016/01/01    558\n",
       "2016/10/08    532\n",
       "2016/04/01    525\n",
       "2016/01/29    514\n",
       "2016/06/25    507\n",
       "Name: Date, dtype: int64"
      ]
     },
     "execution_count": 30,
     "metadata": {},
     "output_type": "execute_result"
    }
   ],
   "source": [
    "# is there a specific date that crimes occur the most or the least?\n",
    "# date = pd.crosstab(index=df['Date'], columns='count')\n",
    "date = df['Date'].value_counts()\n",
    "date.head()"
   ]
  },
  {
   "cell_type": "code",
   "execution_count": 31,
   "metadata": {},
   "outputs": [
    {
     "data": {
      "text/plain": [
       "<matplotlib.axes._subplots.AxesSubplot at 0x1a1db03390>"
      ]
     },
     "execution_count": 31,
     "metadata": {},
     "output_type": "execute_result"
    },
    {
     "data": {
      "image/png": "[encoded data removed]",
      "text/plain": [
       "<Figure size 432x288 with 1 Axes>"
      ]
     },
     "metadata": {
      "needs_background": "light"
     },
     "output_type": "display_data"
    }
   ],
   "source": [
    "# here we can see the 10 \"biggest\" days for crime in SF. I do not think it is a surprise that New Years is the day \n",
    "# with the highest amount of crime\n",
    "date.head(10).plot(kind = 'bar')"
   ]
  },
  {
   "cell_type": "code",
   "execution_count": 32,
   "metadata": {},
   "outputs": [
    {
     "data": {
      "text/plain": [
       "<matplotlib.axes._subplots.AxesSubplot at 0x1a1dafb950>"
      ]
     },
     "execution_count": 32,
     "metadata": {},
     "output_type": "execute_result"
    },
    {
     "data": {
      "image/png": "[encoded data removed]",
      "text/plain": [
       "<Figure size 432x288 with 1 Axes>"
      ]
     },
     "metadata": {
      "needs_background": "light"
     },
     "output_type": "display_data"
    }
   ],
   "source": [
    "# here are the 10 days with the lowest amount of crime. Again, I do not think it is a surprise that christmas is the\n",
    "# day with the least amount of crime.\n",
    "date.tail(10).plot(kind = 'bar')"
   ]
  },
  {
   "cell_type": "markdown",
   "metadata": {},
   "source": [
    "# Time"
   ]
  },
  {
   "cell_type": "code",
   "execution_count": 33,
   "metadata": {},
   "outputs": [],
   "source": [
    "# Due to limitations in the data, time is a hard thing to nail down. Officers/data entry people have either rounded\n",
    "# the time to the nearest hour, or entered in the data precisely.\n",
    "time = df['Time'].value_counts()"
   ]
  },
  {
   "cell_type": "code",
   "execution_count": 34,
   "metadata": {},
   "outputs": [
    {
     "data": {
      "text/plain": [
       "<matplotlib.axes._subplots.AxesSubplot at 0x1a1f203dd0>"
      ]
     },
     "execution_count": 34,
     "metadata": {},
     "output_type": "execute_result"
    },
    {
     "data": {
      "image/png": "[encoded data removed]",
      "text/plain": [
       "<Figure size 432x288 with 1 Axes>"
      ]
     },
     "metadata": {
      "needs_background": "light"
     },
     "output_type": "display_data"
    }
   ],
   "source": [
    "#looking at the graph of the 10 times that occur the most.\n",
    "# I think that it is interesting (given the data) that most of the crimes occur in the late afternoon. i would assume\n",
    "# most crimes would have happened during the early hours of the morning.\n",
    "\n",
    "# military time\n",
    "time.head(10).plot(kind = 'bar')"
   ]
  },
  {
   "cell_type": "markdown",
   "metadata": {},
   "source": [
    "# PdDistrict"
   ]
  },
  {
   "cell_type": "code",
   "execution_count": 35,
   "metadata": {},
   "outputs": [],
   "source": [
    "# now lets take a look at which police department is called upon the most.\n",
    "dist = df['PdDistrict'].value_counts()"
   ]
  },
  {
   "cell_type": "code",
   "execution_count": 36,
   "metadata": {},
   "outputs": [
    {
     "data": {
      "text/plain": [
       "SOUTHERN    28445\n",
       "NORTHERN    20100\n",
       "MISSION     19503\n",
       "CENTRAL     17666\n",
       "BAYVIEW     14303\n",
       "Name: PdDistrict, dtype: int64"
      ]
     },
     "execution_count": 36,
     "metadata": {},
     "output_type": "execute_result"
    }
   ],
   "source": [
    "# as we can clearly see from the numbers and graph below, the southern district is the most crime ridden.\n",
    "dist.head()"
   ]
  },
  {
   "cell_type": "code",
   "execution_count": 37,
   "metadata": {},
   "outputs": [
    {
     "data": {
      "text/plain": [
       "<matplotlib.axes._subplots.AxesSubplot at 0x1a1f243d10>"
      ]
     },
     "execution_count": 37,
     "metadata": {},
     "output_type": "execute_result"
    },
    {
     "data": {
      "image/png": "[encoded data removed]",
      "text/plain": [
       "<Figure size 432x288 with 1 Axes>"
      ]
     },
     "metadata": {
      "needs_background": "light"
     },
     "output_type": "display_data"
    }
   ],
   "source": [
    "dist.plot(kind = 'bar')"
   ]
  },
  {
   "cell_type": "markdown",
   "metadata": {},
   "source": [
    "# Resolution"
   ]
  },
  {
   "cell_type": "code",
   "execution_count": 38,
   "metadata": {},
   "outputs": [],
   "source": [
    "# is there a way to combine everything that isnt none, 'arrest, booked', into another category called other?"
   ]
  },
  {
   "cell_type": "code",
   "execution_count": 39,
   "metadata": {},
   "outputs": [],
   "source": [
    "res = df['Resolution']"
   ]
  },
  {
   "cell_type": "code",
   "execution_count": 40,
   "metadata": {},
   "outputs": [
    {
     "data": {
      "text/plain": [
       "NONE                                      107780\n",
       "ARREST, BOOKED                             39416\n",
       "UNFOUNDED                                   1608\n",
       "JUVENILE BOOKED                             1056\n",
       "EXCEPTIONAL CLEARANCE                        371\n",
       "ARREST, CITED                                144\n",
       "CLEARED-CONTACT JUVENILE FOR MORE INFO        58\n",
       "NOT PROSECUTED                                22\n",
       "LOCATED                                       20\n",
       "PSYCHOPATHIC CASE                             17\n",
       "JUVENILE CITED                                 3\n",
       "JUVENILE DIVERTED                              2\n",
       "COMPLAINANT REFUSES TO PROSECUTE               2\n",
       "PROSECUTED BY OUTSIDE AGENCY                   1\n",
       "Name: Resolution, dtype: int64"
      ]
     },
     "execution_count": 40,
     "metadata": {},
     "output_type": "execute_result"
    }
   ],
   "source": [
    "res.value_counts()"
   ]
  },
  {
   "cell_type": "code",
   "execution_count": 41,
   "metadata": {},
   "outputs": [],
   "source": [
    "reso = res.value_counts().head(2)"
   ]
  },
  {
   "cell_type": "code",
   "execution_count": 42,
   "metadata": {},
   "outputs": [
    {
     "data": {
      "text/plain": [
       "<matplotlib.axes._subplots.AxesSubplot at 0x1a1f4f0810>"
      ]
     },
     "execution_count": 42,
     "metadata": {},
     "output_type": "execute_result"
    },
    {
     "data": {
      "image/png": "[encoded data removed]",
      "text/plain": [
       "<Figure size 432x288 with 1 Axes>"
      ]
     },
     "metadata": {
      "needs_background": "light"
     },
     "output_type": "display_data"
    }
   ],
   "source": [
    "reso.plot(kind = 'bar')"
   ]
  },
  {
   "cell_type": "markdown",
   "metadata": {},
   "source": [
    "# Amount of Crimes Per Month"
   ]
  },
  {
   "cell_type": "code",
   "execution_count": 84,
   "metadata": {},
   "outputs": [
    {
     "name": "stdout",
     "output_type": "stream",
     "text": [
      "Total amount of crimes in January: 12946\n"
     ]
    },
    {
     "data": {
      "image/png": "[encoded data removed]",
      "text/plain": [
       "<Figure size 432x288 with 1 Axes>"
      ]
     },
     "metadata": {
      "needs_background": "light"
     },
     "output_type": "display_data"
    }
   ],
   "source": [
    "filtdf1 = df[(df['Date'] >= '2016/01/01') & (df['Date'] <='2016/01/31')]\n",
    "filtdf1['Date'].value_counts().plot(kind = 'bar');\n",
    "print(\"Total amount of crimes in January:\", filtdf1['Date'].value_counts().sum())\n",
    "\n",
    "# January\n",
    "# Top 3 days for crime:\n",
    "# Jan 1, 29, 23\n",
    "# Lowest 3 days for crime:\n",
    "# Jan 11, 6, 3"
   ]
  },
  {
   "cell_type": "code",
   "execution_count": 85,
   "metadata": {},
   "outputs": [
    {
     "name": "stdout",
     "output_type": "stream",
     "text": [
      "Total amount of crimes in February: 12092\n"
     ]
    },
    {
     "data": {
      "image/png": "[encoded data removed]",
      "text/plain": [
       "<Figure size 432x288 with 1 Axes>"
      ]
     },
     "metadata": {
      "needs_background": "light"
     },
     "output_type": "display_data"
    }
   ],
   "source": [
    "filtdf2 = df[(df['Date'] >= '2016/02/01') & (df['Date'] <='2016/02/31')]\n",
    "filtdf2['Date'].value_counts().plot(kind = 'bar');\n",
    "print(\"Total amount of crimes in February:\", filtdf2['Date'].value_counts().sum())\n",
    "\n",
    "# February\n",
    "# Top 3 days for crime:\n",
    "# Feb 1, 4, 7\n",
    "# Lowest 3 days for crime:\n",
    "# Feb 26, 14, 23"
   ]
  },
  {
   "cell_type": "code",
   "execution_count": 86,
   "metadata": {},
   "outputs": [
    {
     "name": "stdout",
     "output_type": "stream",
     "text": [
      "Total amount of crimes in March: 12362\n"
     ]
    },
    {
     "data": {
      "image/png": "[encoded data removed]",
      "text/plain": [
       "<Figure size 432x288 with 1 Axes>"
      ]
     },
     "metadata": {
      "needs_background": "light"
     },
     "output_type": "display_data"
    }
   ],
   "source": [
    "filtdf3 = df[(df['Date'] >= '2016/03/01') & (df['Date'] <='2016/03/31')]\n",
    "filtdf3['Date'].value_counts().plot(kind = 'bar');\n",
    "print(\"Total amount of crimes in March:\", filtdf3['Date'].value_counts().sum())\n",
    "\n",
    "\n",
    "# March\n",
    "# Top 3 days for crime:\n",
    "# Mar 18, 4, 26\n",
    "# Lowest 3 days for crime:\n",
    "# Mar 5, 10, 13"
   ]
  },
  {
   "cell_type": "code",
   "execution_count": 87,
   "metadata": {},
   "outputs": [
    {
     "name": "stdout",
     "output_type": "stream",
     "text": [
      "Total amount of crimes in April: 12317\n"
     ]
    },
    {
     "data": {
      "image/png": "[encoded data removed]",
      "text/plain": [
       "<Figure size 432x288 with 1 Axes>"
      ]
     },
     "metadata": {
      "needs_background": "light"
     },
     "output_type": "display_data"
    }
   ],
   "source": [
    "filtdf4 = df[(df['Date'] >= '2016/04/01') & (df['Date'] <='2016/04/31')]\n",
    "filtdf4['Date'].value_counts().plot(kind = 'bar');\n",
    "print(\"Total amount of crimes in April:\", filtdf4['Date'].value_counts().sum())\n",
    "\n",
    "# April\n",
    "# Top 3 days for crime:\n",
    "# Apr 1, 20, 4\n",
    "# Lowest 3 days for crime:\n",
    "# Apr 18, 26, 10"
   ]
  },
  {
   "cell_type": "code",
   "execution_count": 47,
   "metadata": {},
   "outputs": [],
   "source": [
    "# # to save space I have written the code but I have not entered it\n",
    "# # May\n",
    "# filtdf5 = df[(df['Date'] >= '2016/05/01') & (df['Date'] <='2016/05/31')]\n",
    "# filtdf5['Date'].value_counts().plot(kind = 'bar');\n",
    "# # June\n",
    "# filtdf6 = df[(df['Date'] >= '2016/06/01') & (df['Date'] <='2016/06/31')]\n",
    "# filtdf6['Date'].value_counts().plot(kind = 'bar');\n",
    "# # July\n",
    "# filtdf7 = df[(df['Date'] >= '2016/07/01') & (df['Date'] <='2016/07/31')]\n",
    "# filtdf7['Date'].value_counts().plot(kind = 'bar');\n",
    "# # August\n",
    "# filtdf8 = df[(df['Date'] >= '2016/08/01') & (df['Date'] <='2016/08/31')]\n",
    "# filtdf8['Date'].value_counts().plot(kind = 'bar');\n",
    "# # September\n",
    "# filtdf9 = df[(df['Date'] >= '2016/09/01') & (df['Date'] <='2016/09/31')]\n",
    "# filtdf9['Date'].value_counts().plot(kind = 'bar');\n",
    "# # October\n",
    "# filtdf10 = df[(df['Date'] >= '2016/10/01') & (df['Date'] <='2016/10/31')]\n",
    "# filtdf10['Date'].value_counts().plot(kind = 'bar');\n",
    "# # November\n",
    "# filtdf11 = df[(df['Date'] >= '2016/11/01') & (df['Date'] <='2016/11/31')]\n",
    "# filtdf11['Date'].value_counts().plot(kind = 'bar');\n",
    "# # December\n",
    "# filtdf12 = df[(df['Date'] >= '2016/12/01') & (df['Date'] <='2016/12/31')]\n",
    "# filtdf12['Date'].value_counts().plot(kind = 'bar');"
   ]
  },
  {
   "cell_type": "markdown",
   "metadata": {},
   "source": [
    "# Time Series Analysis"
   ]
  },
  {
   "cell_type": "code",
   "execution_count": 48,
   "metadata": {},
   "outputs": [],
   "source": [
    "# in order to fully understand crime within san francisco, i will perform a time series analysis. \n",
    "# importing necessary packages\n",
    "import sklearn\n",
    "from sklearn.linear_model import LinearRegression\n",
    "from sklearn.preprocessing import LabelEncoder\n",
    "from sklearn.linear_model import LinearRegression"
   ]
  },
  {
   "cell_type": "code",
   "execution_count": 49,
   "metadata": {},
   "outputs": [],
   "source": [
    "le = LabelEncoder()\n",
    "lr = LinearRegression()"
   ]
  },
  {
   "cell_type": "code",
   "execution_count": 50,
   "metadata": {},
   "outputs": [],
   "source": [
    "ts = df.drop(['Address', 'Lat', 'Lon'], axis = 1)"
   ]
  },
  {
   "cell_type": "code",
   "execution_count": 51,
   "metadata": {},
   "outputs": [],
   "source": [
    "# in order to graph our time series we will need to turn the categorical data into numbers\n",
    "labelcat = le.fit_transform(ts['Category'])"
   ]
  },
  {
   "cell_type": "code",
   "execution_count": 52,
   "metadata": {},
   "outputs": [
    {
     "data": {
      "text/plain": [
       "array([21,  1, 35, ..., 20, 20, 20])"
      ]
     },
     "execution_count": 52,
     "metadata": {},
     "output_type": "execute_result"
    }
   ],
   "source": [
    "labelcat"
   ]
  },
  {
   "cell_type": "code",
   "execution_count": 53,
   "metadata": {},
   "outputs": [
    {
     "data": {
      "text/plain": [
       "array(['ARSON', 'ASSAULT', 'BAD CHECKS', 'BRIBERY', 'BURGLARY',\n",
       "       'DISORDERLY CONDUCT', 'DRIVING UNDER THE INFLUENCE',\n",
       "       'DRUG/NARCOTIC', 'DRUNKENNESS', 'EMBEZZLEMENT', 'EXTORTION',\n",
       "       'FAMILY OFFENSES', 'FORGERY/COUNTERFEITING', 'FRAUD', 'GAMBLING',\n",
       "       'KIDNAPPING', 'LARCENY/THEFT', 'LIQUOR LAWS', 'LOITERING',\n",
       "       'MISSING PERSON', 'NON-CRIMINAL', 'OTHER OFFENSES',\n",
       "       'PORNOGRAPHY/OBSCENE MAT', 'PROSTITUTION', 'RECOVERED VEHICLE',\n",
       "       'ROBBERY', 'RUNAWAY', 'SECONDARY CODES', 'SEX OFFENSES, FORCIBLE',\n",
       "       'SEX OFFENSES, NON FORCIBLE', 'STOLEN PROPERTY', 'SUICIDE',\n",
       "       'SUSPICIOUS OCC', 'TREA', 'TRESPASS', 'VANDALISM', 'VEHICLE THEFT',\n",
       "       'WARRANTS', 'WEAPON LAWS'], dtype=object)"
      ]
     },
     "execution_count": 53,
     "metadata": {},
     "output_type": "execute_result"
    }
   ],
   "source": [
    "le.classes_"
   ]
  },
  {
   "cell_type": "code",
   "execution_count": 54,
   "metadata": {},
   "outputs": [],
   "source": [
    "ts['Category'] = labelcat"
   ]
  },
  {
   "cell_type": "code",
   "execution_count": 55,
   "metadata": {},
   "outputs": [
    {
     "data": {
      "text/html": [
       "<div>\n",
       "<style scoped>\n",
       "    .dataframe tbody tr th:only-of-type {\n",
       "        vertical-align: middle;\n",
       "    }\n",
       "\n",
       "    .dataframe tbody tr th {\n",
       "        vertical-align: top;\n",
       "    }\n",
       "\n",
       "    .dataframe thead th {\n",
       "        text-align: right;\n",
       "    }\n",
       "</style>\n",
       "<table border=\"1\" class=\"dataframe\">\n",
       "  <thead>\n",
       "    <tr style=\"text-align: right;\">\n",
       "      <th></th>\n",
       "      <th>Category</th>\n",
       "      <th>Descript</th>\n",
       "      <th>DayOfWeek</th>\n",
       "      <th>Date</th>\n",
       "      <th>Time</th>\n",
       "      <th>PdDistrict</th>\n",
       "      <th>Resolution</th>\n",
       "    </tr>\n",
       "  </thead>\n",
       "  <tbody>\n",
       "    <tr>\n",
       "      <td>139947</td>\n",
       "      <td>21</td>\n",
       "      <td>MISCELLANEOUS INVESTIGATION</td>\n",
       "      <td>Friday</td>\n",
       "      <td>2016/01/01</td>\n",
       "      <td>00:01</td>\n",
       "      <td>TARAVAL</td>\n",
       "      <td>NONE</td>\n",
       "    </tr>\n",
       "    <tr>\n",
       "      <td>26883</td>\n",
       "      <td>1</td>\n",
       "      <td>BATTERY, FORMER SPOUSE OR DATING RELATIONSHIP</td>\n",
       "      <td>Friday</td>\n",
       "      <td>2016/01/01</td>\n",
       "      <td>00:09</td>\n",
       "      <td>MISSION</td>\n",
       "      <td>NONE</td>\n",
       "    </tr>\n",
       "  </tbody>\n",
       "</table>\n",
       "</div>"
      ],
      "text/plain": [
       "        Category                                       Descript DayOfWeek  \\\n",
       "139947        21                    MISCELLANEOUS INVESTIGATION    Friday   \n",
       "26883          1  BATTERY, FORMER SPOUSE OR DATING RELATIONSHIP    Friday   \n",
       "\n",
       "              Date   Time PdDistrict Resolution  \n",
       "139947  2016/01/01  00:01    TARAVAL       NONE  \n",
       "26883   2016/01/01  00:09    MISSION       NONE  "
      ]
     },
     "execution_count": 55,
     "metadata": {},
     "output_type": "execute_result"
    }
   ],
   "source": [
    "ts.head(2)"
   ]
  },
  {
   "cell_type": "code",
   "execution_count": 56,
   "metadata": {},
   "outputs": [],
   "source": [
    "# setting the index as the date\n",
    "ts = ts.set_index('Date')"
   ]
  },
  {
   "cell_type": "code",
   "execution_count": 57,
   "metadata": {
    "scrolled": true
   },
   "outputs": [
    {
     "data": {
      "text/html": [
       "<div>\n",
       "<style scoped>\n",
       "    .dataframe tbody tr th:only-of-type {\n",
       "        vertical-align: middle;\n",
       "    }\n",
       "\n",
       "    .dataframe tbody tr th {\n",
       "        vertical-align: top;\n",
       "    }\n",
       "\n",
       "    .dataframe thead th {\n",
       "        text-align: right;\n",
       "    }\n",
       "</style>\n",
       "<table border=\"1\" class=\"dataframe\">\n",
       "  <thead>\n",
       "    <tr style=\"text-align: right;\">\n",
       "      <th></th>\n",
       "      <th>Category</th>\n",
       "      <th>Descript</th>\n",
       "      <th>DayOfWeek</th>\n",
       "      <th>Time</th>\n",
       "      <th>PdDistrict</th>\n",
       "      <th>Resolution</th>\n",
       "    </tr>\n",
       "    <tr>\n",
       "      <th>Date</th>\n",
       "      <th></th>\n",
       "      <th></th>\n",
       "      <th></th>\n",
       "      <th></th>\n",
       "      <th></th>\n",
       "      <th></th>\n",
       "    </tr>\n",
       "  </thead>\n",
       "  <tbody>\n",
       "    <tr>\n",
       "      <td>2016/01/01</td>\n",
       "      <td>21</td>\n",
       "      <td>MISCELLANEOUS INVESTIGATION</td>\n",
       "      <td>Friday</td>\n",
       "      <td>00:01</td>\n",
       "      <td>TARAVAL</td>\n",
       "      <td>NONE</td>\n",
       "    </tr>\n",
       "    <tr>\n",
       "      <td>2016/01/01</td>\n",
       "      <td>1</td>\n",
       "      <td>BATTERY, FORMER SPOUSE OR DATING RELATIONSHIP</td>\n",
       "      <td>Friday</td>\n",
       "      <td>00:09</td>\n",
       "      <td>MISSION</td>\n",
       "      <td>NONE</td>\n",
       "    </tr>\n",
       "    <tr>\n",
       "      <td>2016/01/01</td>\n",
       "      <td>35</td>\n",
       "      <td>MALICIOUS MISCHIEF, BREAKING WINDOWS</td>\n",
       "      <td>Friday</td>\n",
       "      <td>00:09</td>\n",
       "      <td>MISSION</td>\n",
       "      <td>NONE</td>\n",
       "    </tr>\n",
       "    <tr>\n",
       "      <td>2016/01/01</td>\n",
       "      <td>7</td>\n",
       "      <td>POSSESSION OF CONTROLLED SUBSTANCE</td>\n",
       "      <td>Friday</td>\n",
       "      <td>00:07</td>\n",
       "      <td>NORTHERN</td>\n",
       "      <td>ARREST, BOOKED</td>\n",
       "    </tr>\n",
       "    <tr>\n",
       "      <td>2016/01/01</td>\n",
       "      <td>6</td>\n",
       "      <td>DRIVING WHILE UNDER THE INFLUENCE OF ALCOHOL</td>\n",
       "      <td>Friday</td>\n",
       "      <td>00:07</td>\n",
       "      <td>NORTHERN</td>\n",
       "      <td>ARREST, BOOKED</td>\n",
       "    </tr>\n",
       "  </tbody>\n",
       "</table>\n",
       "</div>"
      ],
      "text/plain": [
       "            Category                                       Descript DayOfWeek  \\\n",
       "Date                                                                            \n",
       "2016/01/01        21                    MISCELLANEOUS INVESTIGATION    Friday   \n",
       "2016/01/01         1  BATTERY, FORMER SPOUSE OR DATING RELATIONSHIP    Friday   \n",
       "2016/01/01        35           MALICIOUS MISCHIEF, BREAKING WINDOWS    Friday   \n",
       "2016/01/01         7             POSSESSION OF CONTROLLED SUBSTANCE    Friday   \n",
       "2016/01/01         6   DRIVING WHILE UNDER THE INFLUENCE OF ALCOHOL    Friday   \n",
       "\n",
       "             Time PdDistrict      Resolution  \n",
       "Date                                          \n",
       "2016/01/01  00:01    TARAVAL            NONE  \n",
       "2016/01/01  00:09    MISSION            NONE  \n",
       "2016/01/01  00:09    MISSION            NONE  \n",
       "2016/01/01  00:07   NORTHERN  ARREST, BOOKED  \n",
       "2016/01/01  00:07   NORTHERN  ARREST, BOOKED  "
      ]
     },
     "execution_count": 57,
     "metadata": {},
     "output_type": "execute_result"
    }
   ],
   "source": [
    "# making sure everything worked\n",
    "ts.head()"
   ]
  },
  {
   "cell_type": "code",
   "execution_count": 58,
   "metadata": {},
   "outputs": [],
   "source": [
    "# setting the ticks for our graph\n",
    "ts['Ticks'] = range(0, len(ts.index.values))"
   ]
  },
  {
   "cell_type": "code",
   "execution_count": 59,
   "metadata": {},
   "outputs": [],
   "source": [
    "# rearranging the columns\n",
    "ts = ts[['Category', 'Time', 'DayOfWeek', 'Resolution', 'PdDistrict', 'Ticks']]"
   ]
  },
  {
   "cell_type": "code",
   "execution_count": 60,
   "metadata": {},
   "outputs": [
    {
     "data": {
      "text/html": [
       "<div>\n",
       "<style scoped>\n",
       "    .dataframe tbody tr th:only-of-type {\n",
       "        vertical-align: middle;\n",
       "    }\n",
       "\n",
       "    .dataframe tbody tr th {\n",
       "        vertical-align: top;\n",
       "    }\n",
       "\n",
       "    .dataframe thead th {\n",
       "        text-align: right;\n",
       "    }\n",
       "</style>\n",
       "<table border=\"1\" class=\"dataframe\">\n",
       "  <thead>\n",
       "    <tr style=\"text-align: right;\">\n",
       "      <th></th>\n",
       "      <th>Category</th>\n",
       "      <th>Time</th>\n",
       "      <th>DayOfWeek</th>\n",
       "      <th>Resolution</th>\n",
       "      <th>PdDistrict</th>\n",
       "      <th>Ticks</th>\n",
       "    </tr>\n",
       "    <tr>\n",
       "      <th>Date</th>\n",
       "      <th></th>\n",
       "      <th></th>\n",
       "      <th></th>\n",
       "      <th></th>\n",
       "      <th></th>\n",
       "      <th></th>\n",
       "    </tr>\n",
       "  </thead>\n",
       "  <tbody>\n",
       "    <tr>\n",
       "      <td>2016/01/01</td>\n",
       "      <td>21</td>\n",
       "      <td>00:01</td>\n",
       "      <td>Friday</td>\n",
       "      <td>NONE</td>\n",
       "      <td>TARAVAL</td>\n",
       "      <td>0</td>\n",
       "    </tr>\n",
       "    <tr>\n",
       "      <td>2016/01/01</td>\n",
       "      <td>1</td>\n",
       "      <td>00:09</td>\n",
       "      <td>Friday</td>\n",
       "      <td>NONE</td>\n",
       "      <td>MISSION</td>\n",
       "      <td>1</td>\n",
       "    </tr>\n",
       "    <tr>\n",
       "      <td>2016/01/01</td>\n",
       "      <td>35</td>\n",
       "      <td>00:09</td>\n",
       "      <td>Friday</td>\n",
       "      <td>NONE</td>\n",
       "      <td>MISSION</td>\n",
       "      <td>2</td>\n",
       "    </tr>\n",
       "    <tr>\n",
       "      <td>2016/01/01</td>\n",
       "      <td>7</td>\n",
       "      <td>00:07</td>\n",
       "      <td>Friday</td>\n",
       "      <td>ARREST, BOOKED</td>\n",
       "      <td>NORTHERN</td>\n",
       "      <td>3</td>\n",
       "    </tr>\n",
       "    <tr>\n",
       "      <td>2016/01/01</td>\n",
       "      <td>6</td>\n",
       "      <td>00:07</td>\n",
       "      <td>Friday</td>\n",
       "      <td>ARREST, BOOKED</td>\n",
       "      <td>NORTHERN</td>\n",
       "      <td>4</td>\n",
       "    </tr>\n",
       "  </tbody>\n",
       "</table>\n",
       "</div>"
      ],
      "text/plain": [
       "            Category   Time DayOfWeek      Resolution PdDistrict  Ticks\n",
       "Date                                                                   \n",
       "2016/01/01        21  00:01    Friday            NONE    TARAVAL      0\n",
       "2016/01/01         1  00:09    Friday            NONE    MISSION      1\n",
       "2016/01/01        35  00:09    Friday            NONE    MISSION      2\n",
       "2016/01/01         7  00:07    Friday  ARREST, BOOKED   NORTHERN      3\n",
       "2016/01/01         6  00:07    Friday  ARREST, BOOKED   NORTHERN      4"
      ]
     },
     "execution_count": 60,
     "metadata": {},
     "output_type": "execute_result"
    }
   ],
   "source": [
    "# checking to see if it worked\n",
    "ts.head()"
   ]
  },
  {
   "cell_type": "code",
   "execution_count": 142,
   "metadata": {},
   "outputs": [
    {
     "data": {
      "image/png": "[encoded data removed]",
      "text/plain": [
       "<Figure size 432x288 with 1 Axes>"
      ]
     },
     "metadata": {
      "needs_background": "light"
     },
     "output_type": "display_data"
    }
   ],
   "source": [
    "fig = plt.figure(1)\n",
    "ax1 = fig.add_subplot(111)\n",
    "ax1.set_xlabel('Date')\n",
    "ax1.set_ylabel('Category')\n",
    "ax1.set_title('Original Plot')\n",
    "ax1.plot('Date', 'Category', data = ts);\n",
    "# plt.xticks(rotation = 90);"
   ]
  },
  {
   "cell_type": "code",
   "execution_count": 118,
   "metadata": {},
   "outputs": [],
   "source": [
    "one_ten = ts.sample(frac = .01, random_state = np.random.randint(1000))"
   ]
  },
  {
   "cell_type": "code",
   "execution_count": 119,
   "metadata": {},
   "outputs": [
    {
     "data": {
      "text/html": [
       "<div>\n",
       "<style scoped>\n",
       "    .dataframe tbody tr th:only-of-type {\n",
       "        vertical-align: middle;\n",
       "    }\n",
       "\n",
       "    .dataframe tbody tr th {\n",
       "        vertical-align: top;\n",
       "    }\n",
       "\n",
       "    .dataframe thead th {\n",
       "        text-align: right;\n",
       "    }\n",
       "</style>\n",
       "<table border=\"1\" class=\"dataframe\">\n",
       "  <thead>\n",
       "    <tr style=\"text-align: right;\">\n",
       "      <th></th>\n",
       "      <th>index</th>\n",
       "      <th>Date</th>\n",
       "      <th>Category</th>\n",
       "      <th>Time</th>\n",
       "      <th>DayOfWeek</th>\n",
       "      <th>Resolution</th>\n",
       "      <th>PdDistrict</th>\n",
       "      <th>Ticks</th>\n",
       "      <th>Rolling Mean</th>\n",
       "    </tr>\n",
       "  </thead>\n",
       "  <tbody>\n",
       "    <tr>\n",
       "      <td>1643</td>\n",
       "      <td>1643</td>\n",
       "      <td>2016/01/05</td>\n",
       "      <td>37</td>\n",
       "      <td>01:45</td>\n",
       "      <td>Tuesday</td>\n",
       "      <td>ARREST, BOOKED</td>\n",
       "      <td>TARAVAL</td>\n",
       "      <td>1643</td>\n",
       "      <td>19.574</td>\n",
       "    </tr>\n",
       "    <tr>\n",
       "      <td>130935</td>\n",
       "      <td>130935</td>\n",
       "      <td>2016/11/15</td>\n",
       "      <td>37</td>\n",
       "      <td>15:55</td>\n",
       "      <td>Tuesday</td>\n",
       "      <td>ARREST, BOOKED</td>\n",
       "      <td>SOUTHERN</td>\n",
       "      <td>130935</td>\n",
       "      <td>19.285</td>\n",
       "    </tr>\n",
       "    <tr>\n",
       "      <td>17042</td>\n",
       "      <td>17042</td>\n",
       "      <td>2016/02/10</td>\n",
       "      <td>16</td>\n",
       "      <td>12:00</td>\n",
       "      <td>Wednesday</td>\n",
       "      <td>NONE</td>\n",
       "      <td>INGLESIDE</td>\n",
       "      <td>17042</td>\n",
       "      <td>19.392</td>\n",
       "    </tr>\n",
       "    <tr>\n",
       "      <td>109252</td>\n",
       "      <td>109252</td>\n",
       "      <td>2016/09/25</td>\n",
       "      <td>21</td>\n",
       "      <td>14:43</td>\n",
       "      <td>Sunday</td>\n",
       "      <td>ARREST, BOOKED</td>\n",
       "      <td>SOUTHERN</td>\n",
       "      <td>109252</td>\n",
       "      <td>19.480</td>\n",
       "    </tr>\n",
       "    <tr>\n",
       "      <td>25478</td>\n",
       "      <td>25478</td>\n",
       "      <td>2016/03/02</td>\n",
       "      <td>21</td>\n",
       "      <td>17:35</td>\n",
       "      <td>Wednesday</td>\n",
       "      <td>ARREST, BOOKED</td>\n",
       "      <td>INGLESIDE</td>\n",
       "      <td>25478</td>\n",
       "      <td>19.267</td>\n",
       "    </tr>\n",
       "  </tbody>\n",
       "</table>\n",
       "</div>"
      ],
      "text/plain": [
       "         index        Date  Category   Time  DayOfWeek      Resolution  \\\n",
       "1643      1643  2016/01/05        37  01:45    Tuesday  ARREST, BOOKED   \n",
       "130935  130935  2016/11/15        37  15:55    Tuesday  ARREST, BOOKED   \n",
       "17042    17042  2016/02/10        16  12:00  Wednesday            NONE   \n",
       "109252  109252  2016/09/25        21  14:43     Sunday  ARREST, BOOKED   \n",
       "25478    25478  2016/03/02        21  17:35  Wednesday  ARREST, BOOKED   \n",
       "\n",
       "       PdDistrict   Ticks  Rolling Mean  \n",
       "1643      TARAVAL    1643        19.574  \n",
       "130935   SOUTHERN  130935        19.285  \n",
       "17042   INGLESIDE   17042        19.392  \n",
       "109252   SOUTHERN  109252        19.480  \n",
       "25478   INGLESIDE   25478        19.267  "
      ]
     },
     "execution_count": 119,
     "metadata": {},
     "output_type": "execute_result"
    }
   ],
   "source": [
    "one_ten.head()"
   ]
  },
  {
   "cell_type": "code",
   "execution_count": 120,
   "metadata": {},
   "outputs": [
    {
     "name": "stdout",
     "output_type": "stream",
     "text": [
      "<class 'pandas.core.frame.DataFrame'>\n",
      "Int64Index: 1505 entries, 1643 to 84694\n",
      "Data columns (total 9 columns):\n",
      "index           1505 non-null int64\n",
      "Date            1505 non-null object\n",
      "Category        1505 non-null int64\n",
      "Time            1505 non-null object\n",
      "DayOfWeek       1505 non-null object\n",
      "Resolution      1505 non-null object\n",
      "PdDistrict      1505 non-null object\n",
      "Ticks           1505 non-null int64\n",
      "Rolling Mean    1501 non-null float64\n",
      "dtypes: float64(1), int64(3), object(5)\n",
      "memory usage: 117.6+ KB\n"
     ]
    }
   ],
   "source": [
    "one_ten.info()"
   ]
  },
  {
   "cell_type": "code",
   "execution_count": 121,
   "metadata": {},
   "outputs": [
    {
     "data": {
      "text/html": [
       "<div>\n",
       "<style scoped>\n",
       "    .dataframe tbody tr th:only-of-type {\n",
       "        vertical-align: middle;\n",
       "    }\n",
       "\n",
       "    .dataframe tbody tr th {\n",
       "        vertical-align: top;\n",
       "    }\n",
       "\n",
       "    .dataframe thead th {\n",
       "        text-align: right;\n",
       "    }\n",
       "</style>\n",
       "<table border=\"1\" class=\"dataframe\">\n",
       "  <thead>\n",
       "    <tr style=\"text-align: right;\">\n",
       "      <th></th>\n",
       "      <th>index</th>\n",
       "      <th>Date</th>\n",
       "      <th>Category</th>\n",
       "      <th>Time</th>\n",
       "      <th>DayOfWeek</th>\n",
       "      <th>Resolution</th>\n",
       "      <th>PdDistrict</th>\n",
       "      <th>Ticks</th>\n",
       "      <th>Rolling Mean</th>\n",
       "    </tr>\n",
       "  </thead>\n",
       "  <tbody>\n",
       "    <tr>\n",
       "      <td>236</td>\n",
       "      <td>236</td>\n",
       "      <td>2016/01/01</td>\n",
       "      <td>21</td>\n",
       "      <td>16:20</td>\n",
       "      <td>Friday</td>\n",
       "      <td>ARREST, BOOKED</td>\n",
       "      <td>INGLESIDE</td>\n",
       "      <td>236</td>\n",
       "      <td>NaN</td>\n",
       "    </tr>\n",
       "    <tr>\n",
       "      <td>260</td>\n",
       "      <td>260</td>\n",
       "      <td>2016/01/01</td>\n",
       "      <td>16</td>\n",
       "      <td>01:00</td>\n",
       "      <td>Friday</td>\n",
       "      <td>NONE</td>\n",
       "      <td>INGLESIDE</td>\n",
       "      <td>260</td>\n",
       "      <td>NaN</td>\n",
       "    </tr>\n",
       "    <tr>\n",
       "      <td>775</td>\n",
       "      <td>775</td>\n",
       "      <td>2016/01/02</td>\n",
       "      <td>1</td>\n",
       "      <td>17:55</td>\n",
       "      <td>Saturday</td>\n",
       "      <td>NONE</td>\n",
       "      <td>NORTHERN</td>\n",
       "      <td>775</td>\n",
       "      <td>NaN</td>\n",
       "    </tr>\n",
       "    <tr>\n",
       "      <td>997</td>\n",
       "      <td>997</td>\n",
       "      <td>2016/01/03</td>\n",
       "      <td>21</td>\n",
       "      <td>21:49</td>\n",
       "      <td>Sunday</td>\n",
       "      <td>ARREST, BOOKED</td>\n",
       "      <td>MISSION</td>\n",
       "      <td>997</td>\n",
       "      <td>NaN</td>\n",
       "    </tr>\n",
       "    <tr>\n",
       "      <td>1047</td>\n",
       "      <td>1047</td>\n",
       "      <td>2016/01/03</td>\n",
       "      <td>7</td>\n",
       "      <td>18:15</td>\n",
       "      <td>Sunday</td>\n",
       "      <td>ARREST, BOOKED</td>\n",
       "      <td>SOUTHERN</td>\n",
       "      <td>1047</td>\n",
       "      <td>19.214</td>\n",
       "    </tr>\n",
       "  </tbody>\n",
       "</table>\n",
       "</div>"
      ],
      "text/plain": [
       "      index        Date  Category   Time DayOfWeek      Resolution PdDistrict  \\\n",
       "236     236  2016/01/01        21  16:20    Friday  ARREST, BOOKED  INGLESIDE   \n",
       "260     260  2016/01/01        16  01:00    Friday            NONE  INGLESIDE   \n",
       "775     775  2016/01/02         1  17:55  Saturday            NONE   NORTHERN   \n",
       "997     997  2016/01/03        21  21:49    Sunday  ARREST, BOOKED    MISSION   \n",
       "1047   1047  2016/01/03         7  18:15    Sunday  ARREST, BOOKED   SOUTHERN   \n",
       "\n",
       "      Ticks  Rolling Mean  \n",
       "236     236           NaN  \n",
       "260     260           NaN  \n",
       "775     775           NaN  \n",
       "997     997           NaN  \n",
       "1047   1047        19.214  "
      ]
     },
     "execution_count": 121,
     "metadata": {},
     "output_type": "execute_result"
    }
   ],
   "source": [
    "one_ten.index.name = None\n",
    "one_ten = one_ten.sort_values(by = ['Ticks'], ascending = True)\n",
    "one_ten.head()"
   ]
  },
  {
   "cell_type": "code",
   "execution_count": 139,
   "metadata": {},
   "outputs": [
    {
     "data": {
      "image/png": "[encoded data removed]",
      "text/plain": [
       "<Figure size 432x288 with 1 Axes>"
      ]
     },
     "metadata": {
      "needs_background": "light"
     },
     "output_type": "display_data"
    }
   ],
   "source": [
    "axes = one_ten.plot('Date', 'Category', legend = False, title = 'Sample Plot');\n",
    "axes.legend = None\n",
    "axes.set_ylabel('Category')\n",
    "plt.xticks(rotation = 90);\n"
   ]
  },
  {
   "cell_type": "code",
   "execution_count": 123,
   "metadata": {},
   "outputs": [
    {
     "data": {
      "image/png": "[encoded data removed]",
      "text/plain": [
       "<Figure size 1800x360 with 2 Axes>"
      ]
     },
     "metadata": {
      "needs_background": "light"
     },
     "output_type": "display_data"
    }
   ],
   "source": [
    "# plotting the two graphs side by side\n",
    "# there is \n",
    "fig, axes = plt.subplots(nrows = 1, ncols = 2, figsize = (25,5));\n",
    "axes[0].plot('Date', 'Category', data = ts);\n",
    "axes[0].set_title('Original Plot');\n",
    "axes[1].plot('Date', 'Category', data = one_ten);\n",
    "axes[1].set_title('Sample Plot');"
   ]
  },
  {
   "cell_type": "code",
   "execution_count": 124,
   "metadata": {},
   "outputs": [
    {
     "data": {
      "text/html": [
       "<div>\n",
       "<style scoped>\n",
       "    .dataframe tbody tr th:only-of-type {\n",
       "        vertical-align: middle;\n",
       "    }\n",
       "\n",
       "    .dataframe tbody tr th {\n",
       "        vertical-align: top;\n",
       "    }\n",
       "\n",
       "    .dataframe thead th {\n",
       "        text-align: right;\n",
       "    }\n",
       "</style>\n",
       "<table border=\"1\" class=\"dataframe\">\n",
       "  <thead>\n",
       "    <tr style=\"text-align: right;\">\n",
       "      <th></th>\n",
       "      <th>level_0</th>\n",
       "      <th>index</th>\n",
       "      <th>Date</th>\n",
       "      <th>Category</th>\n",
       "      <th>Time</th>\n",
       "      <th>DayOfWeek</th>\n",
       "      <th>Resolution</th>\n",
       "      <th>PdDistrict</th>\n",
       "      <th>Ticks</th>\n",
       "      <th>Rolling Mean</th>\n",
       "    </tr>\n",
       "  </thead>\n",
       "  <tbody>\n",
       "    <tr>\n",
       "      <td>0</td>\n",
       "      <td>0</td>\n",
       "      <td>0</td>\n",
       "      <td>2016/01/01</td>\n",
       "      <td>21</td>\n",
       "      <td>00:01</td>\n",
       "      <td>Friday</td>\n",
       "      <td>NONE</td>\n",
       "      <td>TARAVAL</td>\n",
       "      <td>0</td>\n",
       "      <td>NaN</td>\n",
       "    </tr>\n",
       "    <tr>\n",
       "      <td>1</td>\n",
       "      <td>1</td>\n",
       "      <td>1</td>\n",
       "      <td>2016/01/01</td>\n",
       "      <td>1</td>\n",
       "      <td>00:09</td>\n",
       "      <td>Friday</td>\n",
       "      <td>NONE</td>\n",
       "      <td>MISSION</td>\n",
       "      <td>1</td>\n",
       "      <td>NaN</td>\n",
       "    </tr>\n",
       "    <tr>\n",
       "      <td>2</td>\n",
       "      <td>2</td>\n",
       "      <td>2</td>\n",
       "      <td>2016/01/01</td>\n",
       "      <td>35</td>\n",
       "      <td>00:09</td>\n",
       "      <td>Friday</td>\n",
       "      <td>NONE</td>\n",
       "      <td>MISSION</td>\n",
       "      <td>2</td>\n",
       "      <td>NaN</td>\n",
       "    </tr>\n",
       "    <tr>\n",
       "      <td>3</td>\n",
       "      <td>3</td>\n",
       "      <td>3</td>\n",
       "      <td>2016/01/01</td>\n",
       "      <td>7</td>\n",
       "      <td>00:07</td>\n",
       "      <td>Friday</td>\n",
       "      <td>ARREST, BOOKED</td>\n",
       "      <td>NORTHERN</td>\n",
       "      <td>3</td>\n",
       "      <td>NaN</td>\n",
       "    </tr>\n",
       "    <tr>\n",
       "      <td>4</td>\n",
       "      <td>4</td>\n",
       "      <td>4</td>\n",
       "      <td>2016/01/01</td>\n",
       "      <td>6</td>\n",
       "      <td>00:07</td>\n",
       "      <td>Friday</td>\n",
       "      <td>ARREST, BOOKED</td>\n",
       "      <td>NORTHERN</td>\n",
       "      <td>4</td>\n",
       "      <td>NaN</td>\n",
       "    </tr>\n",
       "  </tbody>\n",
       "</table>\n",
       "</div>"
      ],
      "text/plain": [
       "   level_0  index        Date  Category   Time DayOfWeek      Resolution  \\\n",
       "0        0      0  2016/01/01        21  00:01    Friday            NONE   \n",
       "1        1      1  2016/01/01         1  00:09    Friday            NONE   \n",
       "2        2      2  2016/01/01        35  00:09    Friday            NONE   \n",
       "3        3      3  2016/01/01         7  00:07    Friday  ARREST, BOOKED   \n",
       "4        4      4  2016/01/01         6  00:07    Friday  ARREST, BOOKED   \n",
       "\n",
       "  PdDistrict  Ticks  Rolling Mean  \n",
       "0    TARAVAL      0           NaN  \n",
       "1    MISSION      1           NaN  \n",
       "2    MISSION      2           NaN  \n",
       "3   NORTHERN      3           NaN  \n",
       "4   NORTHERN      4           NaN  "
      ]
     },
     "execution_count": 124,
     "metadata": {},
     "output_type": "execute_result"
    }
   ],
   "source": [
    "ts = ts.reset_index()\n",
    "ts.head()"
   ]
  },
  {
   "cell_type": "code",
   "execution_count": 125,
   "metadata": {},
   "outputs": [
    {
     "data": {
      "text/html": [
       "<div>\n",
       "<style scoped>\n",
       "    .dataframe tbody tr th:only-of-type {\n",
       "        vertical-align: middle;\n",
       "    }\n",
       "\n",
       "    .dataframe tbody tr th {\n",
       "        vertical-align: top;\n",
       "    }\n",
       "\n",
       "    .dataframe thead th {\n",
       "        text-align: right;\n",
       "    }\n",
       "</style>\n",
       "<table border=\"1\" class=\"dataframe\">\n",
       "  <thead>\n",
       "    <tr style=\"text-align: right;\">\n",
       "      <th></th>\n",
       "      <th>level_0</th>\n",
       "      <th>index</th>\n",
       "      <th>Date</th>\n",
       "      <th>Category</th>\n",
       "      <th>Time</th>\n",
       "      <th>DayOfWeek</th>\n",
       "      <th>Resolution</th>\n",
       "      <th>PdDistrict</th>\n",
       "      <th>Ticks</th>\n",
       "      <th>Rolling Mean</th>\n",
       "    </tr>\n",
       "  </thead>\n",
       "  <tbody>\n",
       "    <tr>\n",
       "      <td>0</td>\n",
       "      <td>0</td>\n",
       "      <td>0</td>\n",
       "      <td>2016/01/01</td>\n",
       "      <td>21</td>\n",
       "      <td>00:01</td>\n",
       "      <td>Friday</td>\n",
       "      <td>NONE</td>\n",
       "      <td>TARAVAL</td>\n",
       "      <td>0</td>\n",
       "      <td>NaN</td>\n",
       "    </tr>\n",
       "    <tr>\n",
       "      <td>1</td>\n",
       "      <td>1</td>\n",
       "      <td>1</td>\n",
       "      <td>2016/01/01</td>\n",
       "      <td>1</td>\n",
       "      <td>00:09</td>\n",
       "      <td>Friday</td>\n",
       "      <td>NONE</td>\n",
       "      <td>MISSION</td>\n",
       "      <td>1</td>\n",
       "      <td>NaN</td>\n",
       "    </tr>\n",
       "    <tr>\n",
       "      <td>2</td>\n",
       "      <td>2</td>\n",
       "      <td>2</td>\n",
       "      <td>2016/01/01</td>\n",
       "      <td>35</td>\n",
       "      <td>00:09</td>\n",
       "      <td>Friday</td>\n",
       "      <td>NONE</td>\n",
       "      <td>MISSION</td>\n",
       "      <td>2</td>\n",
       "      <td>NaN</td>\n",
       "    </tr>\n",
       "    <tr>\n",
       "      <td>3</td>\n",
       "      <td>3</td>\n",
       "      <td>3</td>\n",
       "      <td>2016/01/01</td>\n",
       "      <td>7</td>\n",
       "      <td>00:07</td>\n",
       "      <td>Friday</td>\n",
       "      <td>ARREST, BOOKED</td>\n",
       "      <td>NORTHERN</td>\n",
       "      <td>3</td>\n",
       "      <td>NaN</td>\n",
       "    </tr>\n",
       "    <tr>\n",
       "      <td>4</td>\n",
       "      <td>4</td>\n",
       "      <td>4</td>\n",
       "      <td>2016/01/01</td>\n",
       "      <td>6</td>\n",
       "      <td>00:07</td>\n",
       "      <td>Friday</td>\n",
       "      <td>ARREST, BOOKED</td>\n",
       "      <td>NORTHERN</td>\n",
       "      <td>4</td>\n",
       "      <td>NaN</td>\n",
       "    </tr>\n",
       "  </tbody>\n",
       "</table>\n",
       "</div>"
      ],
      "text/plain": [
       "   level_0  index        Date  Category   Time DayOfWeek      Resolution  \\\n",
       "0        0      0  2016/01/01        21  00:01    Friday            NONE   \n",
       "1        1      1  2016/01/01         1  00:09    Friday            NONE   \n",
       "2        2      2  2016/01/01        35  00:09    Friday            NONE   \n",
       "3        3      3  2016/01/01         7  00:07    Friday  ARREST, BOOKED   \n",
       "4        4      4  2016/01/01         6  00:07    Friday  ARREST, BOOKED   \n",
       "\n",
       "  PdDistrict  Ticks  Rolling Mean  \n",
       "0    TARAVAL      0           NaN  \n",
       "1    MISSION      1           NaN  \n",
       "2    MISSION      2           NaN  \n",
       "3   NORTHERN      3           NaN  \n",
       "4   NORTHERN      4           NaN  "
      ]
     },
     "execution_count": 125,
     "metadata": {},
     "output_type": "execute_result"
    }
   ],
   "source": [
    "ts['Rolling Mean'] = ts['Category'].rolling(window = 1000).mean()\n",
    "ts.head()"
   ]
  },
  {
   "cell_type": "code",
   "execution_count": 126,
   "metadata": {},
   "outputs": [
    {
     "data": {
      "image/png": "[encoded data removed]",
      "text/plain": [
       "<Figure size 1800x360 with 3 Axes>"
      ]
     },
     "metadata": {
      "needs_background": "light"
     },
     "output_type": "display_data"
    }
   ],
   "source": [
    "fig, axes = plt.subplots(nrows = 1, ncols = 3, figsize = (25,5));\n",
    "axes[0].plot('Ticks', 'Category', data = ts);\n",
    "axes[0].set_title('Original Plot');\n",
    "axes[1].plot('Ticks', 'Category', data = one_ten);\n",
    "axes[1].set_title('Sample Plot');\n",
    "axes[2].plot('Ticks', 'Category', data = ts);\n",
    "axes[2].set_title('Smoothed (Rolling Mean)');"
   ]
  },
  {
   "cell_type": "code",
   "execution_count": 127,
   "metadata": {},
   "outputs": [
    {
     "data": {
      "image/png": "[encoded data removed]",
      "text/plain": [
       "<Figure size 432x288 with 1 Axes>"
      ]
     },
     "metadata": {
      "needs_background": "light"
     },
     "output_type": "display_data"
    }
   ],
   "source": [
    "fig = plt.figure()\n",
    "ax=fig.add_subplot(111)\n",
    "ax.plot(ts['Date'], ts['Rolling Mean'], color = (0,0,0), linewidth = 4, alpha = .9, label = 'Smoothed');\n",
    "ax.plot(ts['Date'], ts['Category'], color = (1,0,0), label = 'Original');\n",
    "ax.set_title('Original and Smoothed Plot');\n",
    "ax.set_xlabel('Date');\n",
    "ax.set_ylabel('Category');\n",
    "ax.legend(loc = 'lower right');\n"
   ]
  },
  {
   "cell_type": "code",
   "execution_count": 128,
   "metadata": {},
   "outputs": [
    {
     "data": {
      "text/html": [
       "<div>\n",
       "<style scoped>\n",
       "    .dataframe tbody tr th:only-of-type {\n",
       "        vertical-align: middle;\n",
       "    }\n",
       "\n",
       "    .dataframe tbody tr th {\n",
       "        vertical-align: top;\n",
       "    }\n",
       "\n",
       "    .dataframe thead th {\n",
       "        text-align: right;\n",
       "    }\n",
       "</style>\n",
       "<table border=\"1\" class=\"dataframe\">\n",
       "  <thead>\n",
       "    <tr style=\"text-align: right;\">\n",
       "      <th></th>\n",
       "      <th>level_0</th>\n",
       "      <th>index</th>\n",
       "      <th>Date</th>\n",
       "      <th>Category</th>\n",
       "      <th>Time</th>\n",
       "      <th>DayOfWeek</th>\n",
       "      <th>Resolution</th>\n",
       "      <th>PdDistrict</th>\n",
       "      <th>Ticks</th>\n",
       "      <th>Rolling Mean</th>\n",
       "    </tr>\n",
       "  </thead>\n",
       "  <tbody>\n",
       "    <tr>\n",
       "      <td>0</td>\n",
       "      <td>0</td>\n",
       "      <td>0</td>\n",
       "      <td>2016/01/01</td>\n",
       "      <td>21</td>\n",
       "      <td>00:01</td>\n",
       "      <td>Friday</td>\n",
       "      <td>NONE</td>\n",
       "      <td>TARAVAL</td>\n",
       "      <td>0</td>\n",
       "      <td>NaN</td>\n",
       "    </tr>\n",
       "    <tr>\n",
       "      <td>1</td>\n",
       "      <td>1</td>\n",
       "      <td>1</td>\n",
       "      <td>2016/01/01</td>\n",
       "      <td>1</td>\n",
       "      <td>00:09</td>\n",
       "      <td>Friday</td>\n",
       "      <td>NONE</td>\n",
       "      <td>MISSION</td>\n",
       "      <td>1</td>\n",
       "      <td>NaN</td>\n",
       "    </tr>\n",
       "    <tr>\n",
       "      <td>2</td>\n",
       "      <td>2</td>\n",
       "      <td>2</td>\n",
       "      <td>2016/01/01</td>\n",
       "      <td>35</td>\n",
       "      <td>00:09</td>\n",
       "      <td>Friday</td>\n",
       "      <td>NONE</td>\n",
       "      <td>MISSION</td>\n",
       "      <td>2</td>\n",
       "      <td>NaN</td>\n",
       "    </tr>\n",
       "    <tr>\n",
       "      <td>3</td>\n",
       "      <td>3</td>\n",
       "      <td>3</td>\n",
       "      <td>2016/01/01</td>\n",
       "      <td>7</td>\n",
       "      <td>00:07</td>\n",
       "      <td>Friday</td>\n",
       "      <td>ARREST, BOOKED</td>\n",
       "      <td>NORTHERN</td>\n",
       "      <td>3</td>\n",
       "      <td>NaN</td>\n",
       "    </tr>\n",
       "    <tr>\n",
       "      <td>4</td>\n",
       "      <td>4</td>\n",
       "      <td>4</td>\n",
       "      <td>2016/01/01</td>\n",
       "      <td>6</td>\n",
       "      <td>00:07</td>\n",
       "      <td>Friday</td>\n",
       "      <td>ARREST, BOOKED</td>\n",
       "      <td>NORTHERN</td>\n",
       "      <td>4</td>\n",
       "      <td>NaN</td>\n",
       "    </tr>\n",
       "  </tbody>\n",
       "</table>\n",
       "</div>"
      ],
      "text/plain": [
       "   level_0  index        Date  Category   Time DayOfWeek      Resolution  \\\n",
       "0        0      0  2016/01/01        21  00:01    Friday            NONE   \n",
       "1        1      1  2016/01/01         1  00:09    Friday            NONE   \n",
       "2        2      2  2016/01/01        35  00:09    Friday            NONE   \n",
       "3        3      3  2016/01/01         7  00:07    Friday  ARREST, BOOKED   \n",
       "4        4      4  2016/01/01         6  00:07    Friday  ARREST, BOOKED   \n",
       "\n",
       "  PdDistrict  Ticks  Rolling Mean  \n",
       "0    TARAVAL      0           NaN  \n",
       "1    MISSION      1           NaN  \n",
       "2    MISSION      2           NaN  \n",
       "3   NORTHERN      3           NaN  \n",
       "4   NORTHERN      4           NaN  "
      ]
     },
     "execution_count": 128,
     "metadata": {},
     "output_type": "execute_result"
    }
   ],
   "source": [
    "    filtts = ts[(ts['Date'] >= '2016/01/01') & (ts['Date'] <='2016/01/31')]\n",
    "filtts.head(5)"
   ]
  },
  {
   "cell_type": "code",
   "execution_count": 129,
   "metadata": {},
   "outputs": [
    {
     "name": "stdout",
     "output_type": "stream",
     "text": [
      "<class 'pandas.core.frame.DataFrame'>\n",
      "Int64Index: 12946 entries, 0 to 12945\n",
      "Data columns (total 10 columns):\n",
      "level_0         12946 non-null int64\n",
      "index           12946 non-null int64\n",
      "Date            12946 non-null object\n",
      "Category        12946 non-null int64\n",
      "Time            12946 non-null object\n",
      "DayOfWeek       12946 non-null object\n",
      "Resolution      12946 non-null object\n",
      "PdDistrict      12946 non-null object\n",
      "Ticks           12946 non-null int64\n",
      "Rolling Mean    11947 non-null float64\n",
      "dtypes: float64(1), int64(4), object(5)\n",
      "memory usage: 1.1+ MB\n"
     ]
    }
   ],
   "source": [
    "filtts.info()"
   ]
  },
  {
   "cell_type": "code",
   "execution_count": 130,
   "metadata": {},
   "outputs": [
    {
     "data": {
      "text/html": [
       "<div>\n",
       "<style scoped>\n",
       "    .dataframe tbody tr th:only-of-type {\n",
       "        vertical-align: middle;\n",
       "    }\n",
       "\n",
       "    .dataframe tbody tr th {\n",
       "        vertical-align: top;\n",
       "    }\n",
       "\n",
       "    .dataframe thead th {\n",
       "        text-align: right;\n",
       "    }\n",
       "</style>\n",
       "<table border=\"1\" class=\"dataframe\">\n",
       "  <thead>\n",
       "    <tr style=\"text-align: right;\">\n",
       "      <th></th>\n",
       "      <th>level_0</th>\n",
       "      <th>index</th>\n",
       "      <th>Category</th>\n",
       "      <th>Ticks</th>\n",
       "      <th>Rolling Mean</th>\n",
       "    </tr>\n",
       "  </thead>\n",
       "  <tbody>\n",
       "    <tr>\n",
       "      <td>count</td>\n",
       "      <td>12946.000000</td>\n",
       "      <td>12946.000000</td>\n",
       "      <td>12946.000000</td>\n",
       "      <td>12946.000000</td>\n",
       "      <td>11947.000000</td>\n",
       "    </tr>\n",
       "    <tr>\n",
       "      <td>mean</td>\n",
       "      <td>6472.500000</td>\n",
       "      <td>6472.500000</td>\n",
       "      <td>19.250348</td>\n",
       "      <td>6472.500000</td>\n",
       "      <td>19.235794</td>\n",
       "    </tr>\n",
       "    <tr>\n",
       "      <td>std</td>\n",
       "      <td>3737.332627</td>\n",
       "      <td>3737.332627</td>\n",
       "      <td>10.139680</td>\n",
       "      <td>3737.332627</td>\n",
       "      <td>0.286868</td>\n",
       "    </tr>\n",
       "    <tr>\n",
       "      <td>min</td>\n",
       "      <td>0.000000</td>\n",
       "      <td>0.000000</td>\n",
       "      <td>0.000000</td>\n",
       "      <td>0.000000</td>\n",
       "      <td>18.263000</td>\n",
       "    </tr>\n",
       "    <tr>\n",
       "      <td>25%</td>\n",
       "      <td>3236.250000</td>\n",
       "      <td>3236.250000</td>\n",
       "      <td>16.000000</td>\n",
       "      <td>3236.250000</td>\n",
       "      <td>19.067000</td>\n",
       "    </tr>\n",
       "    <tr>\n",
       "      <td>50%</td>\n",
       "      <td>6472.500000</td>\n",
       "      <td>6472.500000</td>\n",
       "      <td>20.000000</td>\n",
       "      <td>6472.500000</td>\n",
       "      <td>19.255000</td>\n",
       "    </tr>\n",
       "    <tr>\n",
       "      <td>75%</td>\n",
       "      <td>9708.750000</td>\n",
       "      <td>9708.750000</td>\n",
       "      <td>23.000000</td>\n",
       "      <td>9708.750000</td>\n",
       "      <td>19.447000</td>\n",
       "    </tr>\n",
       "    <tr>\n",
       "      <td>max</td>\n",
       "      <td>12945.000000</td>\n",
       "      <td>12945.000000</td>\n",
       "      <td>38.000000</td>\n",
       "      <td>12945.000000</td>\n",
       "      <td>19.888000</td>\n",
       "    </tr>\n",
       "  </tbody>\n",
       "</table>\n",
       "</div>"
      ],
      "text/plain": [
       "            level_0         index      Category         Ticks  Rolling Mean\n",
       "count  12946.000000  12946.000000  12946.000000  12946.000000  11947.000000\n",
       "mean    6472.500000   6472.500000     19.250348   6472.500000     19.235794\n",
       "std     3737.332627   3737.332627     10.139680   3737.332627      0.286868\n",
       "min        0.000000      0.000000      0.000000      0.000000     18.263000\n",
       "25%     3236.250000   3236.250000     16.000000   3236.250000     19.067000\n",
       "50%     6472.500000   6472.500000     20.000000   6472.500000     19.255000\n",
       "75%     9708.750000   9708.750000     23.000000   9708.750000     19.447000\n",
       "max    12945.000000  12945.000000     38.000000  12945.000000     19.888000"
      ]
     },
     "execution_count": 130,
     "metadata": {},
     "output_type": "execute_result"
    }
   ],
   "source": [
    "filtts.describe()"
   ]
  },
  {
   "cell_type": "code",
   "execution_count": 131,
   "metadata": {},
   "outputs": [
    {
     "name": "stdout",
     "output_type": "stream",
     "text": [
      "<class 'pandas.core.frame.DataFrame'>\n",
      "Int64Index: 12946 entries, 0 to 12945\n",
      "Data columns (total 10 columns):\n",
      "level_0         12946 non-null int64\n",
      "index           12946 non-null int64\n",
      "Date            12946 non-null object\n",
      "Category        12946 non-null int64\n",
      "Time            12946 non-null object\n",
      "DayOfWeek       12946 non-null object\n",
      "Resolution      12946 non-null object\n",
      "PdDistrict      12946 non-null object\n",
      "Ticks           12946 non-null int64\n",
      "Rolling Mean    12946 non-null float64\n",
      "dtypes: float64(1), int64(4), object(5)\n",
      "memory usage: 1.1+ MB\n"
     ]
    }
   ],
   "source": [
    "# filling the missing values in \"Rolling Mean\" with the column mean\n",
    "filtts = filtts.fillna(19.226318)\n",
    "filtts.info()"
   ]
  },
  {
   "cell_type": "code",
   "execution_count": 132,
   "metadata": {},
   "outputs": [
    {
     "name": "stdout",
     "output_type": "stream",
     "text": [
      "y =  -0.0 x +  19.24\n"
     ]
    }
   ],
   "source": [
    "# equation of the line\n",
    "\n",
    "modjan = lr.fit(filtts[['Ticks']], filtts[['Rolling Mean']])\n",
    "m = modjan.coef_[0]\n",
    "b = modjan.intercept_\n",
    "\n",
    "print('y = ', round(m[0],2), 'x + ', round(b[0],2))"
   ]
  },
  {
   "cell_type": "code",
   "execution_count": 133,
   "metadata": {},
   "outputs": [
    {
     "data": {
      "text/plain": [
       "array([[19.23526318],\n",
       "       [19.23526315],\n",
       "       [19.23526312],\n",
       "       [19.23526309],\n",
       "       [19.23526306]])"
      ]
     },
     "execution_count": 133,
     "metadata": {},
     "output_type": "execute_result"
    }
   ],
   "source": [
    "predictions = modjan.predict(filtts[['Ticks']])\n",
    "predictions[30:35]"
   ]
  },
  {
   "cell_type": "code",
   "execution_count": 134,
   "metadata": {},
   "outputs": [
    {
     "data": {
      "text/html": [
       "<div>\n",
       "<style scoped>\n",
       "    .dataframe tbody tr th:only-of-type {\n",
       "        vertical-align: middle;\n",
       "    }\n",
       "\n",
       "    .dataframe tbody tr th {\n",
       "        vertical-align: top;\n",
       "    }\n",
       "\n",
       "    .dataframe thead th {\n",
       "        text-align: right;\n",
       "    }\n",
       "</style>\n",
       "<table border=\"1\" class=\"dataframe\">\n",
       "  <thead>\n",
       "    <tr style=\"text-align: right;\">\n",
       "      <th></th>\n",
       "      <th>Predict</th>\n",
       "    </tr>\n",
       "  </thead>\n",
       "  <tbody>\n",
       "    <tr>\n",
       "      <td>0</td>\n",
       "      <td>19.235264</td>\n",
       "    </tr>\n",
       "    <tr>\n",
       "      <td>1</td>\n",
       "      <td>19.235264</td>\n",
       "    </tr>\n",
       "    <tr>\n",
       "      <td>2</td>\n",
       "      <td>19.235264</td>\n",
       "    </tr>\n",
       "    <tr>\n",
       "      <td>3</td>\n",
       "      <td>19.235264</td>\n",
       "    </tr>\n",
       "    <tr>\n",
       "      <td>4</td>\n",
       "      <td>19.235264</td>\n",
       "    </tr>\n",
       "  </tbody>\n",
       "</table>\n",
       "</div>"
      ],
      "text/plain": [
       "     Predict\n",
       "0  19.235264\n",
       "1  19.235264\n",
       "2  19.235264\n",
       "3  19.235264\n",
       "4  19.235264"
      ]
     },
     "execution_count": 134,
     "metadata": {},
     "output_type": "execute_result"
    }
   ],
   "source": [
    "predictions = pd.DataFrame(data = predictions, index = filtts.index.values, columns = ['Predict'])\n",
    "predictions.head()"
   ]
  },
  {
   "cell_type": "code",
   "execution_count": 135,
   "metadata": {},
   "outputs": [
    {
     "data": {
      "text/html": [
       "<div>\n",
       "<style scoped>\n",
       "    .dataframe tbody tr th:only-of-type {\n",
       "        vertical-align: middle;\n",
       "    }\n",
       "\n",
       "    .dataframe tbody tr th {\n",
       "        vertical-align: top;\n",
       "    }\n",
       "\n",
       "    .dataframe thead th {\n",
       "        text-align: right;\n",
       "    }\n",
       "</style>\n",
       "<table border=\"1\" class=\"dataframe\">\n",
       "  <thead>\n",
       "    <tr style=\"text-align: right;\">\n",
       "      <th></th>\n",
       "      <th>level_0</th>\n",
       "      <th>index</th>\n",
       "      <th>Date</th>\n",
       "      <th>Category</th>\n",
       "      <th>Time</th>\n",
       "      <th>DayOfWeek</th>\n",
       "      <th>Resolution</th>\n",
       "      <th>PdDistrict</th>\n",
       "      <th>Ticks</th>\n",
       "      <th>Rolling Mean</th>\n",
       "      <th>Predict</th>\n",
       "    </tr>\n",
       "  </thead>\n",
       "  <tbody>\n",
       "    <tr>\n",
       "      <td>0</td>\n",
       "      <td>0</td>\n",
       "      <td>0</td>\n",
       "      <td>2016/01/01</td>\n",
       "      <td>21</td>\n",
       "      <td>00:01</td>\n",
       "      <td>Friday</td>\n",
       "      <td>NONE</td>\n",
       "      <td>TARAVAL</td>\n",
       "      <td>0</td>\n",
       "      <td>19.226318</td>\n",
       "      <td>19.235264</td>\n",
       "    </tr>\n",
       "    <tr>\n",
       "      <td>1</td>\n",
       "      <td>1</td>\n",
       "      <td>1</td>\n",
       "      <td>2016/01/01</td>\n",
       "      <td>1</td>\n",
       "      <td>00:09</td>\n",
       "      <td>Friday</td>\n",
       "      <td>NONE</td>\n",
       "      <td>MISSION</td>\n",
       "      <td>1</td>\n",
       "      <td>19.226318</td>\n",
       "      <td>19.235264</td>\n",
       "    </tr>\n",
       "    <tr>\n",
       "      <td>2</td>\n",
       "      <td>2</td>\n",
       "      <td>2</td>\n",
       "      <td>2016/01/01</td>\n",
       "      <td>35</td>\n",
       "      <td>00:09</td>\n",
       "      <td>Friday</td>\n",
       "      <td>NONE</td>\n",
       "      <td>MISSION</td>\n",
       "      <td>2</td>\n",
       "      <td>19.226318</td>\n",
       "      <td>19.235264</td>\n",
       "    </tr>\n",
       "    <tr>\n",
       "      <td>3</td>\n",
       "      <td>3</td>\n",
       "      <td>3</td>\n",
       "      <td>2016/01/01</td>\n",
       "      <td>7</td>\n",
       "      <td>00:07</td>\n",
       "      <td>Friday</td>\n",
       "      <td>ARREST, BOOKED</td>\n",
       "      <td>NORTHERN</td>\n",
       "      <td>3</td>\n",
       "      <td>19.226318</td>\n",
       "      <td>19.235264</td>\n",
       "    </tr>\n",
       "    <tr>\n",
       "      <td>4</td>\n",
       "      <td>4</td>\n",
       "      <td>4</td>\n",
       "      <td>2016/01/01</td>\n",
       "      <td>6</td>\n",
       "      <td>00:07</td>\n",
       "      <td>Friday</td>\n",
       "      <td>ARREST, BOOKED</td>\n",
       "      <td>NORTHERN</td>\n",
       "      <td>4</td>\n",
       "      <td>19.226318</td>\n",
       "      <td>19.235264</td>\n",
       "    </tr>\n",
       "  </tbody>\n",
       "</table>\n",
       "</div>"
      ],
      "text/plain": [
       "   level_0  index        Date  Category   Time DayOfWeek      Resolution  \\\n",
       "0        0      0  2016/01/01        21  00:01    Friday            NONE   \n",
       "1        1      1  2016/01/01         1  00:09    Friday            NONE   \n",
       "2        2      2  2016/01/01        35  00:09    Friday            NONE   \n",
       "3        3      3  2016/01/01         7  00:07    Friday  ARREST, BOOKED   \n",
       "4        4      4  2016/01/01         6  00:07    Friday  ARREST, BOOKED   \n",
       "\n",
       "  PdDistrict  Ticks  Rolling Mean    Predict  \n",
       "0    TARAVAL      0     19.226318  19.235264  \n",
       "1    MISSION      1     19.226318  19.235264  \n",
       "2    MISSION      2     19.226318  19.235264  \n",
       "3   NORTHERN      3     19.226318  19.235264  \n",
       "4   NORTHERN      4     19.226318  19.235264  "
      ]
     },
     "execution_count": 135,
     "metadata": {},
     "output_type": "execute_result"
    }
   ],
   "source": [
    "joined_df = filtts.join(predictions, how = 'inner')\n",
    "joined_df.head()"
   ]
  },
  {
   "cell_type": "code",
   "execution_count": 136,
   "metadata": {},
   "outputs": [
    {
     "data": {
      "image/png": "[encoded data removed]",
      "text/plain": [
       "<Figure size 432x288 with 1 Axes>"
      ]
     },
     "metadata": {
      "needs_background": "light"
     },
     "output_type": "display_data"
    }
   ],
   "source": [
    "fig = plt.figure();\n",
    "ax = fig.add_subplot(111);\n",
    "ax.plot(joined_df['Date'], joined_df['Rolling Mean'], color = (0, 0, 0), linewidth = 4, alpha = .9, label = 'Smoothed');\n",
    "ax.plot(joined_df['Date'], joined_df['Predict'], color = (1, 0, 0), label = 'Prediction');\n",
    "ax.set_title('Rolling Mean vs. Linear Regression');\n",
    "ax.set_xlabel('Ticks');\n",
    "ax.set_ylabel('Category');\n",
    "ax.legend(loc = 'lower right');\n"
   ]
  },
  {
   "cell_type": "code",
   "execution_count": 137,
   "metadata": {},
   "outputs": [
    {
     "data": {
      "text/plain": [
       "1.7782592509618667e-07"
      ]
     },
     "execution_count": 137,
     "metadata": {},
     "output_type": "execute_result"
    }
   ],
   "source": [
    "r_2 = sklearn.metrics.r2_score(joined_df['Rolling Mean'], joined_df['Predict'], multioutput = 'uniform_average')\n",
    "r_2"
   ]
  },
  {
   "cell_type": "code",
   "execution_count": null,
   "metadata": {},
   "outputs": [],
   "source": []
  },
  {
   "cell_type": "code",
   "execution_count": null,
   "metadata": {},
   "outputs": [],
   "source": []
  },
  {
   "cell_type": "code",
   "execution_count": null,
   "metadata": {},
   "outputs": [],
   "source": []
  }
 ],
 "metadata": {
  "kernelspec": {
   "display_name": "Python 3",
   "language": "python",
   "name": "python3"
  },
  "language_info": {
   "codemirror_mode": {
    "name": "ipython",
    "version": 3
   },
   "file_extension": ".py",
   "mimetype": "text/x-python",
   "name": "python",
   "nbconvert_exporter": "python",
   "pygments_lexer": "ipython3",
   "version": "3.7.4"
  }
 },
 "nbformat": 4,
 "nbformat_minor": 2
}
